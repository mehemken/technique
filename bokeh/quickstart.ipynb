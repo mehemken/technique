{
 "cells": [
  {
   "cell_type": "code",
   "execution_count": 1,
   "metadata": {},
   "outputs": [
    {
     "data": {
      "text/html": [
       "\n",
       "    <div class=\"bk-root\">\n",
       "        <a href=\"https://bokeh.pydata.org\" target=\"_blank\" class=\"bk-logo bk-logo-small bk-logo-notebook\"></a>\n",
       "        <span id=\"01c47d50-2dfd-4827-bfac-c3e10c736c5c\">Loading BokehJS ...</span>\n",
       "    </div>"
      ]
     },
     "metadata": {},
     "output_type": "display_data"
    },
    {
     "data": {
      "application/javascript": [
       "\n",
       "(function(root) {\n",
       "  function now() {\n",
       "    return new Date();\n",
       "  }\n",
       "\n",
       "  var force = true;\n",
       "\n",
       "  if (typeof (root._bokeh_onload_callbacks) === \"undefined\" || force === true) {\n",
       "    root._bokeh_onload_callbacks = [];\n",
       "    root._bokeh_is_loading = undefined;\n",
       "  }\n",
       "\n",
       "  var JS_MIME_TYPE = 'application/javascript';\n",
       "  var HTML_MIME_TYPE = 'text/html';\n",
       "  var EXEC_MIME_TYPE = 'application/vnd.bokehjs_exec.v0+json';\n",
       "  var CLASS_NAME = 'output_bokeh rendered_html';\n",
       "\n",
       "  /**\n",
       "   * Render data to the DOM node\n",
       "   */\n",
       "  function render(props, node) {\n",
       "    var script = document.createElement(\"script\");\n",
       "    node.appendChild(script);\n",
       "  }\n",
       "\n",
       "  /**\n",
       "   * Handle when an output is cleared or removed\n",
       "   */\n",
       "  function handleClearOutput(event, handle) {\n",
       "    var cell = handle.cell;\n",
       "\n",
       "    var id = cell.output_area._bokeh_element_id;\n",
       "    var server_id = cell.output_area._bokeh_server_id;\n",
       "    // Clean up Bokeh references\n",
       "    if (id !== undefined) {\n",
       "      Bokeh.index[id].model.document.clear();\n",
       "      delete Bokeh.index[id];\n",
       "    }\n",
       "\n",
       "    if (server_id !== undefined) {\n",
       "      // Clean up Bokeh references\n",
       "      var cmd = \"from bokeh.io.state import curstate; print(curstate().uuid_to_server['\" + server_id + \"'].get_sessions()[0].document.roots[0]._id)\";\n",
       "      cell.notebook.kernel.execute(cmd, {\n",
       "        iopub: {\n",
       "          output: function(msg) {\n",
       "            var element_id = msg.content.text.trim();\n",
       "            Bokeh.index[element_id].model.document.clear();\n",
       "            delete Bokeh.index[element_id];\n",
       "          }\n",
       "        }\n",
       "      });\n",
       "      // Destroy server and session\n",
       "      var cmd = \"import bokeh.io.notebook as ion; ion.destroy_server('\" + server_id + \"')\";\n",
       "      cell.notebook.kernel.execute(cmd);\n",
       "    }\n",
       "  }\n",
       "\n",
       "  /**\n",
       "   * Handle when a new output is added\n",
       "   */\n",
       "  function handleAddOutput(event, handle) {\n",
       "    var output_area = handle.output_area;\n",
       "    var output = handle.output;\n",
       "\n",
       "    // limit handleAddOutput to display_data with EXEC_MIME_TYPE content only\n",
       "    if ((output.output_type != \"display_data\") || (!output.data.hasOwnProperty(EXEC_MIME_TYPE))) {\n",
       "      return\n",
       "    }\n",
       "\n",
       "    var toinsert = output_area.element.find(`.${CLASS_NAME.split(' ')[0]}`);\n",
       "\n",
       "    if (output.metadata[EXEC_MIME_TYPE][\"id\"] !== undefined) {\n",
       "      toinsert[0].firstChild.textContent = output.data[JS_MIME_TYPE];\n",
       "      // store reference to embed id on output_area\n",
       "      output_area._bokeh_element_id = output.metadata[EXEC_MIME_TYPE][\"id\"];\n",
       "    }\n",
       "    if (output.metadata[EXEC_MIME_TYPE][\"server_id\"] !== undefined) {\n",
       "      var bk_div = document.createElement(\"div\");\n",
       "      bk_div.innerHTML = output.data[HTML_MIME_TYPE];\n",
       "      var script_attrs = bk_div.children[0].attributes;\n",
       "      for (var i = 0; i < script_attrs.length; i++) {\n",
       "        toinsert[0].firstChild.setAttribute(script_attrs[i].name, script_attrs[i].value);\n",
       "      }\n",
       "      // store reference to server id on output_area\n",
       "      output_area._bokeh_server_id = output.metadata[EXEC_MIME_TYPE][\"server_id\"];\n",
       "    }\n",
       "  }\n",
       "\n",
       "  function register_renderer(events, OutputArea) {\n",
       "\n",
       "    function append_mime(data, metadata, element) {\n",
       "      // create a DOM node to render to\n",
       "      var toinsert = this.create_output_subarea(\n",
       "        metadata,\n",
       "        CLASS_NAME,\n",
       "        EXEC_MIME_TYPE\n",
       "      );\n",
       "      this.keyboard_manager.register_events(toinsert);\n",
       "      // Render to node\n",
       "      var props = {data: data, metadata: metadata[EXEC_MIME_TYPE]};\n",
       "      render(props, toinsert[0]);\n",
       "      element.append(toinsert);\n",
       "      return toinsert\n",
       "    }\n",
       "\n",
       "    /* Handle when an output is cleared or removed */\n",
       "    events.on('clear_output.CodeCell', handleClearOutput);\n",
       "    events.on('delete.Cell', handleClearOutput);\n",
       "\n",
       "    /* Handle when a new output is added */\n",
       "    events.on('output_added.OutputArea', handleAddOutput);\n",
       "\n",
       "    /**\n",
       "     * Register the mime type and append_mime function with output_area\n",
       "     */\n",
       "    OutputArea.prototype.register_mime_type(EXEC_MIME_TYPE, append_mime, {\n",
       "      /* Is output safe? */\n",
       "      safe: true,\n",
       "      /* Index of renderer in `output_area.display_order` */\n",
       "      index: 0\n",
       "    });\n",
       "  }\n",
       "\n",
       "  // register the mime type if in Jupyter Notebook environment and previously unregistered\n",
       "  if (root.Jupyter !== undefined) {\n",
       "    var events = require('base/js/events');\n",
       "    var OutputArea = require('notebook/js/outputarea').OutputArea;\n",
       "\n",
       "    if (OutputArea.prototype.mime_types().indexOf(EXEC_MIME_TYPE) == -1) {\n",
       "      register_renderer(events, OutputArea);\n",
       "    }\n",
       "  }\n",
       "\n",
       "  \n",
       "  if (typeof (root._bokeh_timeout) === \"undefined\" || force === true) {\n",
       "    root._bokeh_timeout = Date.now() + 5000;\n",
       "    root._bokeh_failed_load = false;\n",
       "  }\n",
       "\n",
       "  var NB_LOAD_WARNING = {'data': {'text/html':\n",
       "     \"<div style='background-color: #fdd'>\\n\"+\n",
       "     \"<p>\\n\"+\n",
       "     \"BokehJS does not appear to have successfully loaded. If loading BokehJS from CDN, this \\n\"+\n",
       "     \"may be due to a slow or bad network connection. Possible fixes:\\n\"+\n",
       "     \"</p>\\n\"+\n",
       "     \"<ul>\\n\"+\n",
       "     \"<li>re-rerun `output_notebook()` to attempt to load from CDN again, or</li>\\n\"+\n",
       "     \"<li>use INLINE resources instead, as so:</li>\\n\"+\n",
       "     \"</ul>\\n\"+\n",
       "     \"<code>\\n\"+\n",
       "     \"from bokeh.resources import INLINE\\n\"+\n",
       "     \"output_notebook(resources=INLINE)\\n\"+\n",
       "     \"</code>\\n\"+\n",
       "     \"</div>\"}};\n",
       "\n",
       "  function display_loaded() {\n",
       "    var el = document.getElementById(\"01c47d50-2dfd-4827-bfac-c3e10c736c5c\");\n",
       "    if (el != null) {\n",
       "      el.textContent = \"BokehJS is loading...\";\n",
       "    }\n",
       "    if (root.Bokeh !== undefined) {\n",
       "      if (el != null) {\n",
       "        el.textContent = \"BokehJS \" + root.Bokeh.version + \" successfully loaded.\";\n",
       "      }\n",
       "    } else if (Date.now() < root._bokeh_timeout) {\n",
       "      setTimeout(display_loaded, 100)\n",
       "    }\n",
       "  }\n",
       "\n",
       "\n",
       "  function run_callbacks() {\n",
       "    try {\n",
       "      root._bokeh_onload_callbacks.forEach(function(callback) { callback() });\n",
       "    }\n",
       "    finally {\n",
       "      delete root._bokeh_onload_callbacks\n",
       "    }\n",
       "    console.info(\"Bokeh: all callbacks have finished\");\n",
       "  }\n",
       "\n",
       "  function load_libs(js_urls, callback) {\n",
       "    root._bokeh_onload_callbacks.push(callback);\n",
       "    if (root._bokeh_is_loading > 0) {\n",
       "      console.log(\"Bokeh: BokehJS is being loaded, scheduling callback at\", now());\n",
       "      return null;\n",
       "    }\n",
       "    if (js_urls == null || js_urls.length === 0) {\n",
       "      run_callbacks();\n",
       "      return null;\n",
       "    }\n",
       "    console.log(\"Bokeh: BokehJS not loaded, scheduling load and callback at\", now());\n",
       "    root._bokeh_is_loading = js_urls.length;\n",
       "    for (var i = 0; i < js_urls.length; i++) {\n",
       "      var url = js_urls[i];\n",
       "      var s = document.createElement('script');\n",
       "      s.src = url;\n",
       "      s.async = false;\n",
       "      s.onreadystatechange = s.onload = function() {\n",
       "        root._bokeh_is_loading--;\n",
       "        if (root._bokeh_is_loading === 0) {\n",
       "          console.log(\"Bokeh: all BokehJS libraries loaded\");\n",
       "          run_callbacks()\n",
       "        }\n",
       "      };\n",
       "      s.onerror = function() {\n",
       "        console.warn(\"failed to load library \" + url);\n",
       "      };\n",
       "      console.log(\"Bokeh: injecting script tag for BokehJS library: \", url);\n",
       "      document.getElementsByTagName(\"head\")[0].appendChild(s);\n",
       "    }\n",
       "  };var element = document.getElementById(\"01c47d50-2dfd-4827-bfac-c3e10c736c5c\");\n",
       "  if (element == null) {\n",
       "    console.log(\"Bokeh: ERROR: autoload.js configured with elementid '01c47d50-2dfd-4827-bfac-c3e10c736c5c' but no matching script tag was found. \")\n",
       "    return false;\n",
       "  }\n",
       "\n",
       "  var js_urls = [\"https://cdn.pydata.org/bokeh/release/bokeh-0.12.10.min.js\", \"https://cdn.pydata.org/bokeh/release/bokeh-widgets-0.12.10.min.js\", \"https://cdn.pydata.org/bokeh/release/bokeh-tables-0.12.10.min.js\", \"https://cdn.pydata.org/bokeh/release/bokeh-gl-0.12.10.min.js\"];\n",
       "\n",
       "  var inline_js = [\n",
       "    function(Bokeh) {\n",
       "      Bokeh.set_log_level(\"info\");\n",
       "    },\n",
       "    \n",
       "    function(Bokeh) {\n",
       "      \n",
       "    },\n",
       "    function(Bokeh) {\n",
       "      console.log(\"Bokeh: injecting CSS: https://cdn.pydata.org/bokeh/release/bokeh-0.12.10.min.css\");\n",
       "      Bokeh.embed.inject_css(\"https://cdn.pydata.org/bokeh/release/bokeh-0.12.10.min.css\");\n",
       "      console.log(\"Bokeh: injecting CSS: https://cdn.pydata.org/bokeh/release/bokeh-widgets-0.12.10.min.css\");\n",
       "      Bokeh.embed.inject_css(\"https://cdn.pydata.org/bokeh/release/bokeh-widgets-0.12.10.min.css\");\n",
       "      console.log(\"Bokeh: injecting CSS: https://cdn.pydata.org/bokeh/release/bokeh-tables-0.12.10.min.css\");\n",
       "      Bokeh.embed.inject_css(\"https://cdn.pydata.org/bokeh/release/bokeh-tables-0.12.10.min.css\");\n",
       "    }\n",
       "  ];\n",
       "\n",
       "  function run_inline_js() {\n",
       "    \n",
       "    if ((root.Bokeh !== undefined) || (force === true)) {\n",
       "      for (var i = 0; i < inline_js.length; i++) {\n",
       "        inline_js[i].call(root, root.Bokeh);\n",
       "      }if (force === true) {\n",
       "        display_loaded();\n",
       "      }} else if (Date.now() < root._bokeh_timeout) {\n",
       "      setTimeout(run_inline_js, 100);\n",
       "    } else if (!root._bokeh_failed_load) {\n",
       "      console.log(\"Bokeh: BokehJS failed to load within specified timeout.\");\n",
       "      root._bokeh_failed_load = true;\n",
       "    } else if (force !== true) {\n",
       "      var cell = $(document.getElementById(\"01c47d50-2dfd-4827-bfac-c3e10c736c5c\")).parents('.cell').data().cell;\n",
       "      cell.output_area.append_execute_result(NB_LOAD_WARNING)\n",
       "    }\n",
       "\n",
       "  }\n",
       "\n",
       "  if (root._bokeh_is_loading === 0) {\n",
       "    console.log(\"Bokeh: BokehJS loaded, going straight to plotting\");\n",
       "    run_inline_js();\n",
       "  } else {\n",
       "    load_libs(js_urls, function() {\n",
       "      console.log(\"Bokeh: BokehJS plotting callback run at\", now());\n",
       "      run_inline_js();\n",
       "    });\n",
       "  }\n",
       "}(window));"
      ],
      "application/vnd.bokehjs_load.v0+json": "\n(function(root) {\n  function now() {\n    return new Date();\n  }\n\n  var force = true;\n\n  if (typeof (root._bokeh_onload_callbacks) === \"undefined\" || force === true) {\n    root._bokeh_onload_callbacks = [];\n    root._bokeh_is_loading = undefined;\n  }\n\n  \n\n  \n  if (typeof (root._bokeh_timeout) === \"undefined\" || force === true) {\n    root._bokeh_timeout = Date.now() + 5000;\n    root._bokeh_failed_load = false;\n  }\n\n  var NB_LOAD_WARNING = {'data': {'text/html':\n     \"<div style='background-color: #fdd'>\\n\"+\n     \"<p>\\n\"+\n     \"BokehJS does not appear to have successfully loaded. If loading BokehJS from CDN, this \\n\"+\n     \"may be due to a slow or bad network connection. Possible fixes:\\n\"+\n     \"</p>\\n\"+\n     \"<ul>\\n\"+\n     \"<li>re-rerun `output_notebook()` to attempt to load from CDN again, or</li>\\n\"+\n     \"<li>use INLINE resources instead, as so:</li>\\n\"+\n     \"</ul>\\n\"+\n     \"<code>\\n\"+\n     \"from bokeh.resources import INLINE\\n\"+\n     \"output_notebook(resources=INLINE)\\n\"+\n     \"</code>\\n\"+\n     \"</div>\"}};\n\n  function display_loaded() {\n    var el = document.getElementById(\"01c47d50-2dfd-4827-bfac-c3e10c736c5c\");\n    if (el != null) {\n      el.textContent = \"BokehJS is loading...\";\n    }\n    if (root.Bokeh !== undefined) {\n      if (el != null) {\n        el.textContent = \"BokehJS \" + root.Bokeh.version + \" successfully loaded.\";\n      }\n    } else if (Date.now() < root._bokeh_timeout) {\n      setTimeout(display_loaded, 100)\n    }\n  }\n\n\n  function run_callbacks() {\n    try {\n      root._bokeh_onload_callbacks.forEach(function(callback) { callback() });\n    }\n    finally {\n      delete root._bokeh_onload_callbacks\n    }\n    console.info(\"Bokeh: all callbacks have finished\");\n  }\n\n  function load_libs(js_urls, callback) {\n    root._bokeh_onload_callbacks.push(callback);\n    if (root._bokeh_is_loading > 0) {\n      console.log(\"Bokeh: BokehJS is being loaded, scheduling callback at\", now());\n      return null;\n    }\n    if (js_urls == null || js_urls.length === 0) {\n      run_callbacks();\n      return null;\n    }\n    console.log(\"Bokeh: BokehJS not loaded, scheduling load and callback at\", now());\n    root._bokeh_is_loading = js_urls.length;\n    for (var i = 0; i < js_urls.length; i++) {\n      var url = js_urls[i];\n      var s = document.createElement('script');\n      s.src = url;\n      s.async = false;\n      s.onreadystatechange = s.onload = function() {\n        root._bokeh_is_loading--;\n        if (root._bokeh_is_loading === 0) {\n          console.log(\"Bokeh: all BokehJS libraries loaded\");\n          run_callbacks()\n        }\n      };\n      s.onerror = function() {\n        console.warn(\"failed to load library \" + url);\n      };\n      console.log(\"Bokeh: injecting script tag for BokehJS library: \", url);\n      document.getElementsByTagName(\"head\")[0].appendChild(s);\n    }\n  };var element = document.getElementById(\"01c47d50-2dfd-4827-bfac-c3e10c736c5c\");\n  if (element == null) {\n    console.log(\"Bokeh: ERROR: autoload.js configured with elementid '01c47d50-2dfd-4827-bfac-c3e10c736c5c' but no matching script tag was found. \")\n    return false;\n  }\n\n  var js_urls = [\"https://cdn.pydata.org/bokeh/release/bokeh-0.12.10.min.js\", \"https://cdn.pydata.org/bokeh/release/bokeh-widgets-0.12.10.min.js\", \"https://cdn.pydata.org/bokeh/release/bokeh-tables-0.12.10.min.js\", \"https://cdn.pydata.org/bokeh/release/bokeh-gl-0.12.10.min.js\"];\n\n  var inline_js = [\n    function(Bokeh) {\n      Bokeh.set_log_level(\"info\");\n    },\n    \n    function(Bokeh) {\n      \n    },\n    function(Bokeh) {\n      console.log(\"Bokeh: injecting CSS: https://cdn.pydata.org/bokeh/release/bokeh-0.12.10.min.css\");\n      Bokeh.embed.inject_css(\"https://cdn.pydata.org/bokeh/release/bokeh-0.12.10.min.css\");\n      console.log(\"Bokeh: injecting CSS: https://cdn.pydata.org/bokeh/release/bokeh-widgets-0.12.10.min.css\");\n      Bokeh.embed.inject_css(\"https://cdn.pydata.org/bokeh/release/bokeh-widgets-0.12.10.min.css\");\n      console.log(\"Bokeh: injecting CSS: https://cdn.pydata.org/bokeh/release/bokeh-tables-0.12.10.min.css\");\n      Bokeh.embed.inject_css(\"https://cdn.pydata.org/bokeh/release/bokeh-tables-0.12.10.min.css\");\n    }\n  ];\n\n  function run_inline_js() {\n    \n    if ((root.Bokeh !== undefined) || (force === true)) {\n      for (var i = 0; i < inline_js.length; i++) {\n        inline_js[i].call(root, root.Bokeh);\n      }if (force === true) {\n        display_loaded();\n      }} else if (Date.now() < root._bokeh_timeout) {\n      setTimeout(run_inline_js, 100);\n    } else if (!root._bokeh_failed_load) {\n      console.log(\"Bokeh: BokehJS failed to load within specified timeout.\");\n      root._bokeh_failed_load = true;\n    } else if (force !== true) {\n      var cell = $(document.getElementById(\"01c47d50-2dfd-4827-bfac-c3e10c736c5c\")).parents('.cell').data().cell;\n      cell.output_area.append_execute_result(NB_LOAD_WARNING)\n    }\n\n  }\n\n  if (root._bokeh_is_loading === 0) {\n    console.log(\"Bokeh: BokehJS loaded, going straight to plotting\");\n    run_inline_js();\n  } else {\n    load_libs(js_urls, function() {\n      console.log(\"Bokeh: BokehJS plotting callback run at\", now());\n      run_inline_js();\n    });\n  }\n}(window));"
     },
     "metadata": {},
     "output_type": "display_data"
    }
   ],
   "source": [
    "from bokeh.io import output_notebook\n",
    "output_notebook()"
   ]
  },
  {
   "cell_type": "code",
   "execution_count": 2,
   "metadata": {
    "collapsed": true
   },
   "outputs": [],
   "source": [
    "import numpy as np\n",
    "import pandas as pd"
   ]
  },
  {
   "cell_type": "code",
   "execution_count": 3,
   "metadata": {},
   "outputs": [],
   "source": [
    "from bokeh.plotting import figure, output_file, show"
   ]
  },
  {
   "cell_type": "code",
   "execution_count": 4,
   "metadata": {},
   "outputs": [
    {
     "data": {
      "text/html": [
       "<div style=\"display: table;\"><div style=\"display: table-row;\"><div style=\"display: table-cell;\"><b title=\"bokeh.models.renderers.GlyphRenderer\">GlyphRenderer</b>(</div><div style=\"display: table-cell;\">id&nbsp;=&nbsp;'71c249c6-4195-490d-91e8-e59c32043668', <span id=\"9907f5d9-2d49-41ef-8e36-e42b3fcc1713\" style=\"cursor: pointer;\">&hellip;)</span></div></div><div class=\"ec895763-ffce-4f58-8b9c-4728895d551e\" style=\"display: none;\"><div style=\"display: table-cell;\"></div><div style=\"display: table-cell;\">data_source&nbsp;=&nbsp;ColumnDataSource(id='438bbabd-e337-41d4-aa1f-41c699faa6c8', ...),</div></div><div class=\"ec895763-ffce-4f58-8b9c-4728895d551e\" style=\"display: none;\"><div style=\"display: table-cell;\"></div><div style=\"display: table-cell;\">glyph&nbsp;=&nbsp;Circle(id='c1c8c7ed-65c2-4ee2-a343-d4861e288568', ...),</div></div><div class=\"ec895763-ffce-4f58-8b9c-4728895d551e\" style=\"display: none;\"><div style=\"display: table-cell;\"></div><div style=\"display: table-cell;\">hover_glyph&nbsp;=&nbsp;None,</div></div><div class=\"ec895763-ffce-4f58-8b9c-4728895d551e\" style=\"display: none;\"><div style=\"display: table-cell;\"></div><div style=\"display: table-cell;\">js_event_callbacks&nbsp;=&nbsp;{},</div></div><div class=\"ec895763-ffce-4f58-8b9c-4728895d551e\" style=\"display: none;\"><div style=\"display: table-cell;\"></div><div style=\"display: table-cell;\">js_property_callbacks&nbsp;=&nbsp;{},</div></div><div class=\"ec895763-ffce-4f58-8b9c-4728895d551e\" style=\"display: none;\"><div style=\"display: table-cell;\"></div><div style=\"display: table-cell;\">level&nbsp;=&nbsp;'glyph',</div></div><div class=\"ec895763-ffce-4f58-8b9c-4728895d551e\" style=\"display: none;\"><div style=\"display: table-cell;\"></div><div style=\"display: table-cell;\">muted&nbsp;=&nbsp;False,</div></div><div class=\"ec895763-ffce-4f58-8b9c-4728895d551e\" style=\"display: none;\"><div style=\"display: table-cell;\"></div><div style=\"display: table-cell;\">muted_glyph&nbsp;=&nbsp;None,</div></div><div class=\"ec895763-ffce-4f58-8b9c-4728895d551e\" style=\"display: none;\"><div style=\"display: table-cell;\"></div><div style=\"display: table-cell;\">name&nbsp;=&nbsp;None,</div></div><div class=\"ec895763-ffce-4f58-8b9c-4728895d551e\" style=\"display: none;\"><div style=\"display: table-cell;\"></div><div style=\"display: table-cell;\">nonselection_glyph&nbsp;=&nbsp;Circle(id='6ee4c492-8ff5-47fe-87ef-0d8d2b8b6ddd', ...),</div></div><div class=\"ec895763-ffce-4f58-8b9c-4728895d551e\" style=\"display: none;\"><div style=\"display: table-cell;\"></div><div style=\"display: table-cell;\">selection_glyph&nbsp;=&nbsp;None,</div></div><div class=\"ec895763-ffce-4f58-8b9c-4728895d551e\" style=\"display: none;\"><div style=\"display: table-cell;\"></div><div style=\"display: table-cell;\">subscribed_events&nbsp;=&nbsp;[],</div></div><div class=\"ec895763-ffce-4f58-8b9c-4728895d551e\" style=\"display: none;\"><div style=\"display: table-cell;\"></div><div style=\"display: table-cell;\">tags&nbsp;=&nbsp;[],</div></div><div class=\"ec895763-ffce-4f58-8b9c-4728895d551e\" style=\"display: none;\"><div style=\"display: table-cell;\"></div><div style=\"display: table-cell;\">view&nbsp;=&nbsp;CDSView(id='4bd984b5-426f-4446-929c-921fef762b18', ...),</div></div><div class=\"ec895763-ffce-4f58-8b9c-4728895d551e\" style=\"display: none;\"><div style=\"display: table-cell;\"></div><div style=\"display: table-cell;\">visible&nbsp;=&nbsp;True,</div></div><div class=\"ec895763-ffce-4f58-8b9c-4728895d551e\" style=\"display: none;\"><div style=\"display: table-cell;\"></div><div style=\"display: table-cell;\">x_range_name&nbsp;=&nbsp;'default',</div></div><div class=\"ec895763-ffce-4f58-8b9c-4728895d551e\" style=\"display: none;\"><div style=\"display: table-cell;\"></div><div style=\"display: table-cell;\">y_range_name&nbsp;=&nbsp;'default')</div></div></div>\n",
       "<script>\n",
       "(function() {\n",
       "  var expanded = false;\n",
       "  var ellipsis = document.getElementById(\"9907f5d9-2d49-41ef-8e36-e42b3fcc1713\");\n",
       "  ellipsis.addEventListener(\"click\", function() {\n",
       "    var rows = document.getElementsByClassName(\"ec895763-ffce-4f58-8b9c-4728895d551e\");\n",
       "    for (var i = 0; i < rows.length; i++) {\n",
       "      var el = rows[i];\n",
       "      el.style.display = expanded ? \"none\" : \"table-row\";\n",
       "    }\n",
       "    ellipsis.innerHTML = expanded ? \"&hellip;)\" : \"&lsaquo;&lsaquo;&lsaquo;\";\n",
       "    expanded = !expanded;\n",
       "  });\n",
       "})();\n",
       "</script>\n"
      ],
      "text/plain": [
       "GlyphRenderer(id='71c249c6-4195-490d-91e8-e59c32043668', ...)"
      ]
     },
     "execution_count": 4,
     "metadata": {},
     "output_type": "execute_result"
    }
   ],
   "source": [
    "n = 1000\n",
    "\n",
    "x = np.linspace(0, 3*np.pi, n)\n",
    "y = 5*np.e**(-0.4*x) * np.cos(2*np.pi*x)\n",
    "\n",
    "p = figure(title=\"Damped sine wave\", x_axis_label='x', y_axis_label='y')\n",
    "\n",
    "p.scatter(x, y)"
   ]
  },
  {
   "cell_type": "code",
   "execution_count": 5,
   "metadata": {},
   "outputs": [
    {
     "data": {
      "text/plain": [
       "array([ 0.        ,  0.00943421,  0.01886842,  0.02830264,  0.03773685,\n",
       "        0.04717106,  0.05660527,  0.06603949,  0.0754737 ,  0.08490791])"
      ]
     },
     "execution_count": 5,
     "metadata": {},
     "output_type": "execute_result"
    }
   ],
   "source": [
    "x[:10]"
   ]
  },
  {
   "cell_type": "code",
   "execution_count": 6,
   "metadata": {},
   "outputs": [
    {
     "data": {
      "text/plain": [
       "array([ 5.        ,  4.9724184 ,  4.92757271,  4.86575031,  4.78729606,\n",
       "        4.69261068,  4.58214892,  4.45641751,  4.31597306,  4.16141965])"
      ]
     },
     "execution_count": 6,
     "metadata": {},
     "output_type": "execute_result"
    }
   ],
   "source": [
    "y[:10]"
   ]
  },
  {
   "cell_type": "code",
   "execution_count": 7,
   "metadata": {},
   "outputs": [
    {
     "data": {
      "text/html": [
       "\n",
       "<div class=\"bk-root\">\n",
       "    <div class=\"bk-plotdiv\" id=\"5044912c-9997-4ed5-92d7-b842f71399c8\"></div>\n",
       "</div>"
      ]
     },
     "metadata": {},
     "output_type": "display_data"
    },
    {
     "data": {
      "application/javascript": [
       "(function(root) {\n",
       "  function embed_document(root) {\n",
       "    var docs_json = {\"a1f28d0e-88f8-411a-9a97-47845b828924\":{\"roots\":{\"references\":[{\"attributes\":{\"dimension\":1,\"plot\":{\"id\":\"6d6807b8-a590-418c-9056-d1d8b782e642\",\"subtype\":\"Figure\",\"type\":\"Plot\"},\"ticker\":{\"id\":\"cf11ef34-077c-477d-9da0-8712d3e75d5e\",\"type\":\"BasicTicker\"}},\"id\":\"b2a0f929-c714-424d-a050-ca7652ee6897\",\"type\":\"Grid\"},{\"attributes\":{\"bottom_units\":\"screen\",\"fill_alpha\":{\"value\":0.5},\"fill_color\":{\"value\":\"lightgrey\"},\"left_units\":\"screen\",\"level\":\"overlay\",\"line_alpha\":{\"value\":1.0},\"line_color\":{\"value\":\"black\"},\"line_dash\":[4,4],\"line_width\":{\"value\":2},\"plot\":null,\"render_mode\":\"css\",\"right_units\":\"screen\",\"top_units\":\"screen\"},\"id\":\"51e34982-8fea-43e1-b4ea-72a8cba3742f\",\"type\":\"BoxAnnotation\"},{\"attributes\":{\"fill_color\":{\"value\":\"#1f77b4\"},\"line_color\":{\"value\":\"#1f77b4\"},\"x\":{\"field\":\"x\"},\"y\":{\"field\":\"y\"}},\"id\":\"c1c8c7ed-65c2-4ee2-a343-d4861e288568\",\"type\":\"Circle\"},{\"attributes\":{},\"id\":\"42c01793-1847-4648-bf1f-e3510910d302\",\"type\":\"BasicTickFormatter\"},{\"attributes\":{\"source\":{\"id\":\"438bbabd-e337-41d4-aa1f-41c699faa6c8\",\"type\":\"ColumnDataSource\"}},\"id\":\"4bd984b5-426f-4446-929c-921fef762b18\",\"type\":\"CDSView\"},{\"attributes\":{},\"id\":\"7601d826-23f3-43be-94e9-d12f61ebdebe\",\"type\":\"PanTool\"},{\"attributes\":{\"below\":[{\"id\":\"e70d23c1-21db-4ed4-b159-b34120ba3841\",\"type\":\"LinearAxis\"}],\"left\":[{\"id\":\"78a99344-d596-4bd2-87c7-7beb4607a57f\",\"type\":\"LinearAxis\"}],\"renderers\":[{\"id\":\"e70d23c1-21db-4ed4-b159-b34120ba3841\",\"type\":\"LinearAxis\"},{\"id\":\"c66e6e86-b11b-4dfb-8bd2-2264e78daf39\",\"type\":\"Grid\"},{\"id\":\"78a99344-d596-4bd2-87c7-7beb4607a57f\",\"type\":\"LinearAxis\"},{\"id\":\"b2a0f929-c714-424d-a050-ca7652ee6897\",\"type\":\"Grid\"},{\"id\":\"51e34982-8fea-43e1-b4ea-72a8cba3742f\",\"type\":\"BoxAnnotation\"},{\"id\":\"71c249c6-4195-490d-91e8-e59c32043668\",\"type\":\"GlyphRenderer\"}],\"title\":{\"id\":\"d17ba43b-7304-4c85-b4a3-37809cb7cce5\",\"type\":\"Title\"},\"toolbar\":{\"id\":\"e1fc4bfc-231f-4dcd-85c7-31702d1a180f\",\"type\":\"Toolbar\"},\"x_range\":{\"id\":\"0048501f-c599-4936-bbb9-768e652e04f8\",\"type\":\"DataRange1d\"},\"x_scale\":{\"id\":\"32278f13-ebcc-4f5d-bed0-256bee965960\",\"type\":\"LinearScale\"},\"y_range\":{\"id\":\"42bb4e49-5848-40d6-9d63-a72117a33699\",\"type\":\"DataRange1d\"},\"y_scale\":{\"id\":\"c5c023c5-7b1b-4bb5-838c-0ba997e40f22\",\"type\":\"LinearScale\"}},\"id\":\"6d6807b8-a590-418c-9056-d1d8b782e642\",\"subtype\":\"Figure\",\"type\":\"Plot\"},{\"attributes\":{\"data_source\":{\"id\":\"438bbabd-e337-41d4-aa1f-41c699faa6c8\",\"type\":\"ColumnDataSource\"},\"glyph\":{\"id\":\"c1c8c7ed-65c2-4ee2-a343-d4861e288568\",\"type\":\"Circle\"},\"hover_glyph\":null,\"muted_glyph\":null,\"nonselection_glyph\":{\"id\":\"6ee4c492-8ff5-47fe-87ef-0d8d2b8b6ddd\",\"type\":\"Circle\"},\"selection_glyph\":null,\"view\":{\"id\":\"4bd984b5-426f-4446-929c-921fef762b18\",\"type\":\"CDSView\"}},\"id\":\"71c249c6-4195-490d-91e8-e59c32043668\",\"type\":\"GlyphRenderer\"},{\"attributes\":{},\"id\":\"f778e0ea-ed05-4e96-948b-ec9250415b81\",\"type\":\"BasicTickFormatter\"},{\"attributes\":{\"plot\":null,\"text\":\"Damped sine wave\"},\"id\":\"d17ba43b-7304-4c85-b4a3-37809cb7cce5\",\"type\":\"Title\"},{\"attributes\":{},\"id\":\"3ca6a7c8-8918-4705-84e1-c87073d46f9f\",\"type\":\"WheelZoomTool\"},{\"attributes\":{\"overlay\":{\"id\":\"51e34982-8fea-43e1-b4ea-72a8cba3742f\",\"type\":\"BoxAnnotation\"}},\"id\":\"cba3c65c-0817-49eb-88bf-0d37f71532de\",\"type\":\"BoxZoomTool\"},{\"attributes\":{\"callback\":null},\"id\":\"0048501f-c599-4936-bbb9-768e652e04f8\",\"type\":\"DataRange1d\"},{\"attributes\":{\"fill_alpha\":{\"value\":0.1},\"fill_color\":{\"value\":\"#1f77b4\"},\"line_alpha\":{\"value\":0.1},\"line_color\":{\"value\":\"#1f77b4\"},\"x\":{\"field\":\"x\"},\"y\":{\"field\":\"y\"}},\"id\":\"6ee4c492-8ff5-47fe-87ef-0d8d2b8b6ddd\",\"type\":\"Circle\"},{\"attributes\":{},\"id\":\"fe9fb7a1-ee0c-46ea-8c21-69020d9a3f11\",\"type\":\"SaveTool\"},{\"attributes\":{},\"id\":\"32278f13-ebcc-4f5d-bed0-256bee965960\",\"type\":\"LinearScale\"},{\"attributes\":{\"callback\":null,\"column_names\":[\"x\",\"y\"],\"data\":{\"x\":{\"__ndarray__\":\"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\",\"dtype\":\"float64\",\"shape\":[1000]},\"y\":{\"__ndarray__\":\"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\",\"dtype\":\"float64\",\"shape\":[1000]}}},\"id\":\"438bbabd-e337-41d4-aa1f-41c699faa6c8\",\"type\":\"ColumnDataSource\"},{\"attributes\":{},\"id\":\"c34a4a67-1f53-4b5c-8268-6b3fb1423a44\",\"type\":\"ResetTool\"},{\"attributes\":{\"callback\":null},\"id\":\"42bb4e49-5848-40d6-9d63-a72117a33699\",\"type\":\"DataRange1d\"},{\"attributes\":{},\"id\":\"8c693f78-4d5d-426f-bbd9-6cf4115b864c\",\"type\":\"HelpTool\"},{\"attributes\":{},\"id\":\"c5c023c5-7b1b-4bb5-838c-0ba997e40f22\",\"type\":\"LinearScale\"},{\"attributes\":{\"active_drag\":\"auto\",\"active_inspect\":\"auto\",\"active_scroll\":\"auto\",\"active_tap\":\"auto\",\"tools\":[{\"id\":\"7601d826-23f3-43be-94e9-d12f61ebdebe\",\"type\":\"PanTool\"},{\"id\":\"3ca6a7c8-8918-4705-84e1-c87073d46f9f\",\"type\":\"WheelZoomTool\"},{\"id\":\"cba3c65c-0817-49eb-88bf-0d37f71532de\",\"type\":\"BoxZoomTool\"},{\"id\":\"fe9fb7a1-ee0c-46ea-8c21-69020d9a3f11\",\"type\":\"SaveTool\"},{\"id\":\"c34a4a67-1f53-4b5c-8268-6b3fb1423a44\",\"type\":\"ResetTool\"},{\"id\":\"8c693f78-4d5d-426f-bbd9-6cf4115b864c\",\"type\":\"HelpTool\"}]},\"id\":\"e1fc4bfc-231f-4dcd-85c7-31702d1a180f\",\"type\":\"Toolbar\"},{\"attributes\":{\"axis_label\":\"x\",\"formatter\":{\"id\":\"42c01793-1847-4648-bf1f-e3510910d302\",\"type\":\"BasicTickFormatter\"},\"plot\":{\"id\":\"6d6807b8-a590-418c-9056-d1d8b782e642\",\"subtype\":\"Figure\",\"type\":\"Plot\"},\"ticker\":{\"id\":\"7fa9d729-cc70-479f-b2d4-62d1a51a6ff4\",\"type\":\"BasicTicker\"}},\"id\":\"e70d23c1-21db-4ed4-b159-b34120ba3841\",\"type\":\"LinearAxis\"},{\"attributes\":{},\"id\":\"7fa9d729-cc70-479f-b2d4-62d1a51a6ff4\",\"type\":\"BasicTicker\"},{\"attributes\":{\"plot\":{\"id\":\"6d6807b8-a590-418c-9056-d1d8b782e642\",\"subtype\":\"Figure\",\"type\":\"Plot\"},\"ticker\":{\"id\":\"7fa9d729-cc70-479f-b2d4-62d1a51a6ff4\",\"type\":\"BasicTicker\"}},\"id\":\"c66e6e86-b11b-4dfb-8bd2-2264e78daf39\",\"type\":\"Grid\"},{\"attributes\":{\"axis_label\":\"y\",\"formatter\":{\"id\":\"f778e0ea-ed05-4e96-948b-ec9250415b81\",\"type\":\"BasicTickFormatter\"},\"plot\":{\"id\":\"6d6807b8-a590-418c-9056-d1d8b782e642\",\"subtype\":\"Figure\",\"type\":\"Plot\"},\"ticker\":{\"id\":\"cf11ef34-077c-477d-9da0-8712d3e75d5e\",\"type\":\"BasicTicker\"}},\"id\":\"78a99344-d596-4bd2-87c7-7beb4607a57f\",\"type\":\"LinearAxis\"},{\"attributes\":{},\"id\":\"cf11ef34-077c-477d-9da0-8712d3e75d5e\",\"type\":\"BasicTicker\"}],\"root_ids\":[\"6d6807b8-a590-418c-9056-d1d8b782e642\"]},\"title\":\"Bokeh Application\",\"version\":\"0.12.10\"}};\n",
       "    var render_items = [{\"docid\":\"a1f28d0e-88f8-411a-9a97-47845b828924\",\"elementid\":\"5044912c-9997-4ed5-92d7-b842f71399c8\",\"modelid\":\"6d6807b8-a590-418c-9056-d1d8b782e642\"}];\n",
       "\n",
       "    root.Bokeh.embed.embed_items(docs_json, render_items);\n",
       "  }\n",
       "\n",
       "  if (root.Bokeh !== undefined) {\n",
       "    embed_document(root);\n",
       "  } else {\n",
       "    var attempts = 0;\n",
       "    var timer = setInterval(function(root) {\n",
       "      if (root.Bokeh !== undefined) {\n",
       "        embed_document(root);\n",
       "        clearInterval(timer);\n",
       "      }\n",
       "      attempts++;\n",
       "      if (attempts > 100) {\n",
       "        console.log(\"Bokeh: ERROR: Unable to embed document because BokehJS library is missing\")\n",
       "        clearInterval(timer);\n",
       "      }\n",
       "    }, 10, root)\n",
       "  }\n",
       "})(window);"
      ],
      "application/vnd.bokehjs_exec.v0+json": ""
     },
     "metadata": {
      "application/vnd.bokehjs_exec.v0+json": {
       "id": "6d6807b8-a590-418c-9056-d1d8b782e642"
      }
     },
     "output_type": "display_data"
    }
   ],
   "source": [
    "show(p)"
   ]
  }
 ],
 "metadata": {
  "kernelspec": {
   "display_name": "Python 3",
   "language": "python",
   "name": "python3"
  },
  "language_info": {
   "codemirror_mode": {
    "name": "ipython",
    "version": 3
   },
   "file_extension": ".py",
   "mimetype": "text/x-python",
   "name": "python",
   "nbconvert_exporter": "python",
   "pygments_lexer": "ipython3",
   "version": "3.6.3"
  }
 },
 "nbformat": 4,
 "nbformat_minor": 2
}
