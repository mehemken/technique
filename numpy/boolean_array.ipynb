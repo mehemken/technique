{
 "cells": [
  {
   "cell_type": "code",
   "execution_count": 1,
   "metadata": {
    "collapsed": true
   },
   "outputs": [],
   "source": [
    "import numpy as np"
   ]
  },
  {
   "cell_type": "markdown",
   "metadata": {},
   "source": [
    "# The Boolean Array"
   ]
  },
  {
   "cell_type": "code",
   "execution_count": 2,
   "metadata": {},
   "outputs": [
    {
     "data": {
      "text/plain": [
       "array(['Bob', 'Joe', 'Will', 'Bob', 'Will', 'Joe', 'Joe'],\n",
       "      dtype='<U4')"
      ]
     },
     "execution_count": 2,
     "metadata": {},
     "output_type": "execute_result"
    }
   ],
   "source": [
    "names = np.array('Bob Joe Will Bob Will Joe Joe'.split())\n",
    "data = np.random.randn(7, 4)\n",
    "names"
   ]
  },
  {
   "cell_type": "code",
   "execution_count": 3,
   "metadata": {},
   "outputs": [
    {
     "data": {
      "text/plain": [
       "array([[-1.42893012,  0.17236002, -0.51369633, -1.12572902],\n",
       "       [-0.81378315,  0.49851157,  0.20575239,  0.64127911],\n",
       "       [-1.06867934, -0.07655642, -0.28882478,  1.04404642],\n",
       "       [-0.22911956, -0.16246168, -0.13548534,  0.61049053],\n",
       "       [-0.82523165, -1.34678297,  0.30969773, -0.66616804],\n",
       "       [-2.25197807, -2.36371356,  0.64267317,  2.0791816 ],\n",
       "       [ 2.35180654, -0.56725041, -0.24199698,  0.48386903]])"
      ]
     },
     "execution_count": 3,
     "metadata": {},
     "output_type": "execute_result"
    }
   ],
   "source": [
    "data"
   ]
  },
  {
   "cell_type": "code",
   "execution_count": 4,
   "metadata": {},
   "outputs": [
    {
     "data": {
      "text/plain": [
       "array([[-1.42893012,  0.17236002, -0.51369633, -1.12572902],\n",
       "       [-0.22911956, -0.16246168, -0.13548534,  0.61049053]])"
      ]
     },
     "execution_count": 4,
     "metadata": {},
     "output_type": "execute_result"
    }
   ],
   "source": [
    "data[names == 'Bob']"
   ]
  },
  {
   "cell_type": "code",
   "execution_count": 5,
   "metadata": {},
   "outputs": [
    {
     "data": {
      "text/plain": [
       "array([[-0.51369633, -1.12572902],\n",
       "       [-0.13548534,  0.61049053]])"
      ]
     },
     "execution_count": 5,
     "metadata": {},
     "output_type": "execute_result"
    }
   ],
   "source": [
    "data[names == 'Bob', 2:]"
   ]
  },
  {
   "cell_type": "markdown",
   "metadata": {},
   "source": [
    "The $\\sim$ negates a condition..."
   ]
  },
  {
   "cell_type": "code",
   "execution_count": 6,
   "metadata": {},
   "outputs": [
    {
     "data": {
      "text/plain": [
       "array([[-0.81378315,  0.49851157,  0.20575239,  0.64127911],\n",
       "       [-1.06867934, -0.07655642, -0.28882478,  1.04404642],\n",
       "       [-0.82523165, -1.34678297,  0.30969773, -0.66616804],\n",
       "       [-2.25197807, -2.36371356,  0.64267317,  2.0791816 ],\n",
       "       [ 2.35180654, -0.56725041, -0.24199698,  0.48386903]])"
      ]
     },
     "execution_count": 6,
     "metadata": {},
     "output_type": "execute_result"
    }
   ],
   "source": [
    "data[~(names == 'Bob')]"
   ]
  },
  {
   "cell_type": "markdown",
   "metadata": {},
   "source": [
    "**Note:**\n",
    "\n",
    "Selecting data from an array by boolean indexing *always* creates a copy of the data, even if the returned array is unchanged.\n",
    "\n",
    "**Note:**\n",
    "\n",
    "The Python keywords `and` and `or` do not work with boolean arrays. Use `&` and `|` instead."
   ]
  },
  {
   "cell_type": "code",
   "execution_count": 7,
   "metadata": {},
   "outputs": [
    {
     "data": {
      "text/plain": [
       "array([[-1.42893012,  0.17236002, -0.51369633, -1.12572902],\n",
       "       [-0.81378315,  0.49851157,  0.20575239,  0.64127911],\n",
       "       [-0.22911956, -0.16246168, -0.13548534,  0.61049053],\n",
       "       [-2.25197807, -2.36371356,  0.64267317,  2.0791816 ],\n",
       "       [ 2.35180654, -0.56725041, -0.24199698,  0.48386903]])"
      ]
     },
     "execution_count": 7,
     "metadata": {},
     "output_type": "execute_result"
    }
   ],
   "source": [
    "mask = (names == 'Bob') | (names == 'Joe')\n",
    "data[mask]"
   ]
  },
  {
   "cell_type": "code",
   "execution_count": 8,
   "metadata": {},
   "outputs": [
    {
     "data": {
      "text/plain": [
       "array([ True,  True, False,  True, False,  True,  True], dtype=bool)"
      ]
     },
     "execution_count": 8,
     "metadata": {},
     "output_type": "execute_result"
    }
   ],
   "source": [
    "mask"
   ]
  },
  {
   "cell_type": "code",
   "execution_count": 9,
   "metadata": {},
   "outputs": [
    {
     "data": {
      "text/plain": [
       "array([[ True, False,  True,  True],\n",
       "       [ True, False, False, False],\n",
       "       [ True,  True,  True, False],\n",
       "       [ True,  True,  True, False],\n",
       "       [ True,  True, False,  True],\n",
       "       [ True,  True, False, False],\n",
       "       [False,  True,  True, False]], dtype=bool)"
      ]
     },
     "execution_count": 9,
     "metadata": {},
     "output_type": "execute_result"
    }
   ],
   "source": [
    "data < 0"
   ]
  },
  {
   "cell_type": "code",
   "execution_count": 10,
   "metadata": {},
   "outputs": [
    {
     "data": {
      "text/plain": [
       "array([[ 0.        ,  0.17236002,  0.        ,  0.        ],\n",
       "       [ 0.        ,  0.49851157,  0.20575239,  0.64127911],\n",
       "       [ 0.        ,  0.        ,  0.        ,  1.04404642],\n",
       "       [ 0.        ,  0.        ,  0.        ,  0.61049053],\n",
       "       [ 0.        ,  0.        ,  0.30969773,  0.        ],\n",
       "       [ 0.        ,  0.        ,  0.64267317,  2.0791816 ],\n",
       "       [ 2.35180654,  0.        ,  0.        ,  0.48386903]])"
      ]
     },
     "execution_count": 10,
     "metadata": {},
     "output_type": "execute_result"
    }
   ],
   "source": [
    "data[data < 0] = 0\n",
    "data"
   ]
  },
  {
   "cell_type": "code",
   "execution_count": 11,
   "metadata": {},
   "outputs": [
    {
     "data": {
      "text/plain": [
       "array([[ 7.        ,  7.        ,  7.        ,  7.        ],\n",
       "       [ 0.        ,  0.49851157,  0.20575239,  0.64127911],\n",
       "       [ 7.        ,  7.        ,  7.        ,  7.        ],\n",
       "       [ 7.        ,  7.        ,  7.        ,  7.        ],\n",
       "       [ 7.        ,  7.        ,  7.        ,  7.        ],\n",
       "       [ 0.        ,  0.        ,  0.64267317,  2.0791816 ],\n",
       "       [ 2.35180654,  0.        ,  0.        ,  0.48386903]])"
      ]
     },
     "execution_count": 11,
     "metadata": {},
     "output_type": "execute_result"
    }
   ],
   "source": [
    "data[names != 'Joe'] = 7\n",
    "data"
   ]
  }
 ],
 "metadata": {
  "kernelspec": {
   "display_name": "Python 3",
   "language": "python",
   "name": "python3"
  },
  "language_info": {
   "codemirror_mode": {
    "name": "ipython",
    "version": 3
   },
   "file_extension": ".py",
   "mimetype": "text/x-python",
   "name": "python",
   "nbconvert_exporter": "python",
   "pygments_lexer": "ipython3",
   "version": "3.6.3"
  }
 },
 "nbformat": 4,
 "nbformat_minor": 2
}
