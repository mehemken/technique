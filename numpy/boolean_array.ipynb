{
 "cells": [
  {
   "cell_type": "code",
   "execution_count": 1,
   "metadata": {
    "collapsed": true
   },
   "outputs": [],
   "source": [
    "import numpy as np"
   ]
  },
  {
   "cell_type": "markdown",
   "metadata": {},
   "source": [
    "# The Boolean Array"
   ]
  },
  {
   "cell_type": "code",
   "execution_count": 9,
   "metadata": {},
   "outputs": [
    {
     "data": {
      "text/plain": [
       "array(['Bob', 'Joe', 'Will', 'Bob', 'Will', 'Joe', 'Joe'],\n",
       "      dtype='<U4')"
      ]
     },
     "execution_count": 9,
     "metadata": {},
     "output_type": "execute_result"
    }
   ],
   "source": [
    "names = np.array('Bob Joe Will Bob Will Joe Joe'.split())\n",
    "data = np.random.randn(7, 4)\n",
    "names"
   ]
  },
  {
   "cell_type": "code",
   "execution_count": 3,
   "metadata": {},
   "outputs": [
    {
     "data": {
      "text/plain": [
       "array([[  4.69731175e-01,  -1.17881636e-01,  -5.92175815e-01,\n",
       "         -2.91150801e-01],\n",
       "       [ -9.21558736e-01,  -9.92440382e-01,   4.27534228e-02,\n",
       "          5.15954912e-01],\n",
       "       [  2.72324512e+00,  -1.33822001e+00,  -1.95984750e+00,\n",
       "          3.28981801e-02],\n",
       "       [ -3.05221960e-01,  -1.04919684e-01,   5.72997955e-01,\n",
       "         -8.19595502e-01],\n",
       "       [ -1.33633302e+00,   2.68810613e-01,   1.36197385e+00,\n",
       "          1.43272798e+00],\n",
       "       [ -1.60499083e+00,   1.06377160e-01,   2.73820956e-01,\n",
       "          2.37533378e-01],\n",
       "       [  1.29465564e+00,   1.57066999e-01,  -5.30093202e-04,\n",
       "         -1.08751486e+00]])"
      ]
     },
     "execution_count": 3,
     "metadata": {},
     "output_type": "execute_result"
    }
   ],
   "source": [
    "data"
   ]
  },
  {
   "cell_type": "code",
   "execution_count": 4,
   "metadata": {},
   "outputs": [
    {
     "data": {
      "text/plain": [
       "array([[ 0.46973117, -0.11788164, -0.59217582, -0.2911508 ],\n",
       "       [-0.30522196, -0.10491968,  0.57299795, -0.8195955 ]])"
      ]
     },
     "execution_count": 4,
     "metadata": {},
     "output_type": "execute_result"
    }
   ],
   "source": [
    "data[names == 'Bob']"
   ]
  },
  {
   "cell_type": "code",
   "execution_count": 6,
   "metadata": {},
   "outputs": [
    {
     "data": {
      "text/plain": [
       "array([[-0.59217582, -0.2911508 ],\n",
       "       [ 0.57299795, -0.8195955 ]])"
      ]
     },
     "execution_count": 6,
     "metadata": {},
     "output_type": "execute_result"
    }
   ],
   "source": [
    "data[names == 'Bob', 2:]"
   ]
  },
  {
   "cell_type": "markdown",
   "metadata": {},
   "source": [
    "The $\\sim$ negates a condition..."
   ]
  },
  {
   "cell_type": "code",
   "execution_count": 7,
   "metadata": {},
   "outputs": [
    {
     "data": {
      "text/plain": [
       "array([[ -9.21558736e-01,  -9.92440382e-01,   4.27534228e-02,\n",
       "          5.15954912e-01],\n",
       "       [  2.72324512e+00,  -1.33822001e+00,  -1.95984750e+00,\n",
       "          3.28981801e-02],\n",
       "       [ -1.33633302e+00,   2.68810613e-01,   1.36197385e+00,\n",
       "          1.43272798e+00],\n",
       "       [ -1.60499083e+00,   1.06377160e-01,   2.73820956e-01,\n",
       "          2.37533378e-01],\n",
       "       [  1.29465564e+00,   1.57066999e-01,  -5.30093202e-04,\n",
       "         -1.08751486e+00]])"
      ]
     },
     "execution_count": 7,
     "metadata": {},
     "output_type": "execute_result"
    }
   ],
   "source": [
    "data[~(names == 'Bob')]"
   ]
  },
  {
   "cell_type": "markdown",
   "metadata": {},
   "source": [
    "**Note:**\n",
    "\n",
    "Selecting data from an array by boolean indexing *always* creates a copy of the data, even if the returned array is unchanged.\n",
    "\n",
    "**Note:**\n",
    "\n",
    "The Python keywords `and` and `or` do not work with boolean arrays. Use `&` and `|` instead."
   ]
  },
  {
   "cell_type": "code",
   "execution_count": 10,
   "metadata": {},
   "outputs": [
    {
     "data": {
      "text/plain": [
       "array([[ 0.86821594, -1.32852932,  1.31446132, -0.69719279],\n",
       "       [ 0.34148411, -0.27105653,  1.23191398,  1.66681072],\n",
       "       [-0.43219954,  0.24473422,  0.31441841, -0.56659507],\n",
       "       [-1.14894636, -1.01978145, -0.96733522,  0.55989795],\n",
       "       [ 0.79153985,  0.25094824,  1.01968195, -2.54019727]])"
      ]
     },
     "execution_count": 10,
     "metadata": {},
     "output_type": "execute_result"
    }
   ],
   "source": [
    "mask = (names == 'Bob') | (names == 'Joe')\n",
    "data[mask]"
   ]
  },
  {
   "cell_type": "code",
   "execution_count": 11,
   "metadata": {},
   "outputs": [
    {
     "data": {
      "text/plain": [
       "array([ True,  True, False,  True, False,  True,  True], dtype=bool)"
      ]
     },
     "execution_count": 11,
     "metadata": {},
     "output_type": "execute_result"
    }
   ],
   "source": [
    "mask"
   ]
  },
  {
   "cell_type": "code",
   "execution_count": null,
   "metadata": {
    "collapsed": true
   },
   "outputs": [],
   "source": [
    "data < 0"
   ]
  }
 ],
 "metadata": {
  "kernelspec": {
   "display_name": "Python 3",
   "language": "python",
   "name": "python3"
  },
  "language_info": {
   "codemirror_mode": {
    "name": "ipython",
    "version": 3
   },
   "file_extension": ".py",
   "mimetype": "text/x-python",
   "name": "python",
   "nbconvert_exporter": "python",
   "pygments_lexer": "ipython3",
   "version": "3.6.3"
  }
 },
 "nbformat": 4,
 "nbformat_minor": 2
}
