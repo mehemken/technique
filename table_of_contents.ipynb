{
 "cells": [
  {
   "cell_type": "markdown",
   "metadata": {},
   "source": [
    "These are my notes on data science and machine learning.\n",
    "\n",
    "# Table of Contents\n",
    "\n",
    "**Quick Reference**\n",
    "1. [Utility Code](utility_code.ipynb)\n",
    "\n",
    "**Basic Pandas**\n",
    "1. [Categorical Data](basic_pandas/categorical.ipynb)\n",
    "1. [The Groupby Method](basic_pandas/groupby.ipynb)\n",
    "1. [The Groupby Method, take #2](basic_pandas/second_pass_groupby.ipynb)\n",
    "1. [Advanced Groupby and Method Chaining](basic_pandas/advanced_groupby_and_method_chaining.ipynb)\n",
    "\n",
    "**Statistics**\n",
    "1. [Stats Sesh](statistics/stats_sesh.ipynb)\n",
    "\n",
    "**Natural Language Processing**\n",
    "1. [Index Page](nlp/index.ipynb)\n",
    "1. [Quickstart](nlp/quickstart.ipynb)\n",
    "1. [Lightning tour](nlp/lightning_tour.ipynb)\n",
    "1. [Intoductory Example](nlp/example.ipynb)\n",
    "\n",
    "**`numpy`**\n",
    "1. [The Basics](numpy/numpy_basics.ipynb)\n",
    "1. [The Boolean Array](numpy/boolean_array.ipynb)\n",
    "\n",
    "**Serialization**\n",
    "1. [HDF5: Hierarchical Data Format](hdf5/hdf5_study.ipynb)\n",
    "\n",
    "**Bokeh**\n",
    "1. [Quickstart](bokeh/quickstart.ipynb)\n",
    "1. [Small sample](bokeh/sample.ipynb)"
   ]
  },
  {
   "cell_type": "code",
   "execution_count": 1,
   "metadata": {},
   "outputs": [
    {
     "name": "stdout",
     "output_type": "stream",
     "text": [
      "analysis      data\t\tnumpy\t     table_of_contents.ipynb\r\n",
      "basic_pandas  hdf5\t\t__pycache__  templates\r\n",
      "bayesian      machine_learning\tstatistics   timeseries\r\n",
      "bokeh\t      nlp\t\tstatsmodels  utility_code.ipynb\r\n"
     ]
    }
   ],
   "source": [
    "!ls"
   ]
  }
 ],
 "metadata": {
  "kernelspec": {
   "display_name": "Python 3",
   "language": "python",
   "name": "python3"
  },
  "language_info": {
   "codemirror_mode": {
    "name": "ipython",
    "version": 3
   },
   "file_extension": ".py",
   "mimetype": "text/x-python",
   "name": "python",
   "nbconvert_exporter": "python",
   "pygments_lexer": "ipython3",
   "version": "3.6.3"
  }
 },
 "nbformat": 4,
 "nbformat_minor": 2
}
