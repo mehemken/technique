{
 "cells": [
  {
   "cell_type": "code",
   "execution_count": 1,
   "metadata": {
    "collapsed": true
   },
   "outputs": [],
   "source": [
    "import logging\n",
    "logger = logging.getLogger()\n",
    "logging.basicConfig(\n",
    "    level=logging.DEBUG,\n",
    "#     filename='foo.log',\n",
    "#     filemode='w',\n",
    "#     format='%(asctime)s:%(message)',\n",
    "#     datefmt='%m/%d/%Y',\n",
    "    format='%(levelname)s:%(message)s'\n",
    ")"
   ]
  },
  {
   "cell_type": "markdown",
   "metadata": {},
   "source": [
    "# Basic Logging in Python\n",
    "\n",
    "The `format` setting in the basic configuration should be quite useful. Here is the full list of [LogRecord attributes](https://docs.python.org/3/library/logging.html#logrecord-attributes). This is enough for most scripts. The magic is in the `logging.basicConfig()` clause. More advanced stuff to come soon."
   ]
  },
  {
   "cell_type": "code",
   "execution_count": 2,
   "metadata": {},
   "outputs": [
    {
     "name": "stderr",
     "output_type": "stream",
     "text": [
      "INFO:Foo bar baz\n"
     ]
    }
   ],
   "source": [
    "logger.info('Foo bar baz')"
   ]
  },
  {
   "cell_type": "code",
   "execution_count": 3,
   "metadata": {},
   "outputs": [
    {
     "name": "stderr",
     "output_type": "stream",
     "text": [
      "ERROR:Fee fi foe\n",
      "Traceback (most recent call last):\n",
      "  File \"<ipython-input-3-06d10a885b74>\", line 2, in <module>\n",
      "    2/0\n",
      "ZeroDivisionError: division by zero\n"
     ]
    }
   ],
   "source": [
    "try:\n",
    "    2/0\n",
    "except:\n",
    "    logger.exception('Fee fi foe')"
   ]
  }
 ],
 "metadata": {
  "kernelspec": {
   "display_name": "Python 3",
   "language": "python",
   "name": "python3"
  },
  "language_info": {
   "codemirror_mode": {
    "name": "ipython",
    "version": 3
   },
   "file_extension": ".py",
   "mimetype": "text/x-python",
   "name": "python",
   "nbconvert_exporter": "python",
   "pygments_lexer": "ipython3",
   "version": "3.6.3"
  }
 },
 "nbformat": 4,
 "nbformat_minor": 2
}
