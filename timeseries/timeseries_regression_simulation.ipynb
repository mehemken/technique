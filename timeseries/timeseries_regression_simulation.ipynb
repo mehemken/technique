{
 "cells": [
  {
   "cell_type": "code",
   "execution_count": 1,
   "metadata": {
    "collapsed": true
   },
   "outputs": [],
   "source": [
    "import pandas as pd\n",
    "import numpy as np\n",
    "from matplotlib import pyplot as plt\n",
    "import matplotlib.style as mplstyle\n",
    "%matplotlib inline\n",
    "mplstyle.use('fivethirtyeight')\n",
    "\n",
    "import datetime"
   ]
  },
  {
   "cell_type": "code",
   "execution_count": 2,
   "metadata": {},
   "outputs": [],
   "source": [
    "from timeseries_regression_simulation import data_generator"
   ]
  },
  {
   "cell_type": "markdown",
   "metadata": {},
   "source": [
    "# First we simulate the data\n",
    "\n",
    "**Requirements:**\n",
    "\n",
    "I need just three columns:\n",
    "\n",
    "- Zip codes  \n",
    "- Timestamps  \n",
    "- Dollars\n",
    "\n",
    "The zip codes need to be sampled from just a few, maybe 6 different zip codes. I'd like to have a random sample of time stamps. Maybe its possible. And finally a random sample of dollar amounts."
   ]
  },
  {
   "cell_type": "code",
   "execution_count": 3,
   "metadata": {
    "collapsed": true
   },
   "outputs": [],
   "source": [
    "dat = data_generator()\n",
    "dat.n = 1000"
   ]
  },
  {
   "cell_type": "code",
   "execution_count": 4,
   "metadata": {},
   "outputs": [],
   "source": [
    "df = dat.get_sample()"
   ]
  },
  {
   "cell_type": "code",
   "execution_count": 5,
   "metadata": {},
   "outputs": [
    {
     "data": {
      "text/html": [
       "<div>\n",
       "<style>\n",
       "    .dataframe thead tr:only-child th {\n",
       "        text-align: right;\n",
       "    }\n",
       "\n",
       "    .dataframe thead th {\n",
       "        text-align: left;\n",
       "    }\n",
       "\n",
       "    .dataframe tbody tr th {\n",
       "        vertical-align: top;\n",
       "    }\n",
       "</style>\n",
       "<table border=\"1\" class=\"dataframe\">\n",
       "  <thead>\n",
       "    <tr style=\"text-align: right;\">\n",
       "      <th></th>\n",
       "      <th>Zip</th>\n",
       "      <th>Date</th>\n",
       "      <th>Amount</th>\n",
       "    </tr>\n",
       "  </thead>\n",
       "  <tbody>\n",
       "    <tr>\n",
       "      <th>0</th>\n",
       "      <td>90028</td>\n",
       "      <td>2017-10-31</td>\n",
       "      <td>22.0</td>\n",
       "    </tr>\n",
       "    <tr>\n",
       "      <th>1</th>\n",
       "      <td>90027</td>\n",
       "      <td>2017-10-24</td>\n",
       "      <td>416.0</td>\n",
       "    </tr>\n",
       "    <tr>\n",
       "      <th>2</th>\n",
       "      <td>90024</td>\n",
       "      <td>2017-10-25</td>\n",
       "      <td>291.0</td>\n",
       "    </tr>\n",
       "    <tr>\n",
       "      <th>3</th>\n",
       "      <td>90024</td>\n",
       "      <td>2017-10-29</td>\n",
       "      <td>734.0</td>\n",
       "    </tr>\n",
       "    <tr>\n",
       "      <th>4</th>\n",
       "      <td>90027</td>\n",
       "      <td>2017-10-28</td>\n",
       "      <td>212.0</td>\n",
       "    </tr>\n",
       "  </tbody>\n",
       "</table>\n",
       "</div>"
      ],
      "text/plain": [
       "     Zip        Date  Amount\n",
       "0  90028  2017-10-31    22.0\n",
       "1  90027  2017-10-24   416.0\n",
       "2  90024  2017-10-25   291.0\n",
       "3  90024  2017-10-29   734.0\n",
       "4  90027  2017-10-28   212.0"
      ]
     },
     "execution_count": 5,
     "metadata": {},
     "output_type": "execute_result"
    }
   ],
   "source": [
    "df.head()"
   ]
  },
  {
   "cell_type": "markdown",
   "metadata": {},
   "source": [
    "## Then we calculate how many days ago for each record"
   ]
  },
  {
   "cell_type": "code",
   "execution_count": 6,
   "metadata": {
    "collapsed": true
   },
   "outputs": [],
   "source": [
    "def days_ago(x):\n",
    "    delta = datetime.date.today() - x\n",
    "    return delta.days"
   ]
  },
  {
   "cell_type": "code",
   "execution_count": 7,
   "metadata": {},
   "outputs": [
    {
     "data": {
      "text/html": [
       "<div>\n",
       "<style>\n",
       "    .dataframe thead tr:only-child th {\n",
       "        text-align: right;\n",
       "    }\n",
       "\n",
       "    .dataframe thead th {\n",
       "        text-align: left;\n",
       "    }\n",
       "\n",
       "    .dataframe tbody tr th {\n",
       "        vertical-align: top;\n",
       "    }\n",
       "</style>\n",
       "<table border=\"1\" class=\"dataframe\">\n",
       "  <thead>\n",
       "    <tr style=\"text-align: right;\">\n",
       "      <th></th>\n",
       "      <th>Zip</th>\n",
       "      <th>Date</th>\n",
       "      <th>Amount</th>\n",
       "      <th>DaysAgo</th>\n",
       "    </tr>\n",
       "  </thead>\n",
       "  <tbody>\n",
       "    <tr>\n",
       "      <th>0</th>\n",
       "      <td>90028</td>\n",
       "      <td>2017-10-31</td>\n",
       "      <td>22.0</td>\n",
       "      <td>17</td>\n",
       "    </tr>\n",
       "    <tr>\n",
       "      <th>1</th>\n",
       "      <td>90027</td>\n",
       "      <td>2017-10-24</td>\n",
       "      <td>416.0</td>\n",
       "      <td>24</td>\n",
       "    </tr>\n",
       "    <tr>\n",
       "      <th>2</th>\n",
       "      <td>90024</td>\n",
       "      <td>2017-10-25</td>\n",
       "      <td>291.0</td>\n",
       "      <td>23</td>\n",
       "    </tr>\n",
       "    <tr>\n",
       "      <th>3</th>\n",
       "      <td>90024</td>\n",
       "      <td>2017-10-29</td>\n",
       "      <td>734.0</td>\n",
       "      <td>19</td>\n",
       "    </tr>\n",
       "    <tr>\n",
       "      <th>4</th>\n",
       "      <td>90027</td>\n",
       "      <td>2017-10-28</td>\n",
       "      <td>212.0</td>\n",
       "      <td>20</td>\n",
       "    </tr>\n",
       "  </tbody>\n",
       "</table>\n",
       "</div>"
      ],
      "text/plain": [
       "     Zip        Date  Amount  DaysAgo\n",
       "0  90028  2017-10-31    22.0       17\n",
       "1  90027  2017-10-24   416.0       24\n",
       "2  90024  2017-10-25   291.0       23\n",
       "3  90024  2017-10-29   734.0       19\n",
       "4  90027  2017-10-28   212.0       20"
      ]
     },
     "execution_count": 7,
     "metadata": {},
     "output_type": "execute_result"
    }
   ],
   "source": [
    "df['DaysAgo'] = df['Date'].apply(days_ago)\n",
    "\n",
    "df.head()"
   ]
  },
  {
   "cell_type": "markdown",
   "metadata": {},
   "source": [
    "## Then we look at data from a single zip code"
   ]
  },
  {
   "cell_type": "code",
   "execution_count": 8,
   "metadata": {
    "collapsed": true
   },
   "outputs": [],
   "source": [
    "z24 = df[df['Zip'] == 90024]"
   ]
  },
  {
   "cell_type": "code",
   "execution_count": 9,
   "metadata": {},
   "outputs": [
    {
     "data": {
      "text/html": [
       "<div>\n",
       "<style>\n",
       "    .dataframe thead tr:only-child th {\n",
       "        text-align: right;\n",
       "    }\n",
       "\n",
       "    .dataframe thead th {\n",
       "        text-align: left;\n",
       "    }\n",
       "\n",
       "    .dataframe tbody tr th {\n",
       "        vertical-align: top;\n",
       "    }\n",
       "</style>\n",
       "<table border=\"1\" class=\"dataframe\">\n",
       "  <thead>\n",
       "    <tr style=\"text-align: right;\">\n",
       "      <th></th>\n",
       "      <th>Zip</th>\n",
       "      <th>Date</th>\n",
       "      <th>Amount</th>\n",
       "      <th>DaysAgo</th>\n",
       "    </tr>\n",
       "  </thead>\n",
       "  <tbody>\n",
       "    <tr>\n",
       "      <th>2</th>\n",
       "      <td>90024</td>\n",
       "      <td>2017-10-25</td>\n",
       "      <td>291.0</td>\n",
       "      <td>23</td>\n",
       "    </tr>\n",
       "    <tr>\n",
       "      <th>3</th>\n",
       "      <td>90024</td>\n",
       "      <td>2017-10-29</td>\n",
       "      <td>734.0</td>\n",
       "      <td>19</td>\n",
       "    </tr>\n",
       "    <tr>\n",
       "      <th>9</th>\n",
       "      <td>90024</td>\n",
       "      <td>2017-11-04</td>\n",
       "      <td>211.0</td>\n",
       "      <td>13</td>\n",
       "    </tr>\n",
       "    <tr>\n",
       "      <th>13</th>\n",
       "      <td>90024</td>\n",
       "      <td>2017-11-12</td>\n",
       "      <td>692.0</td>\n",
       "      <td>5</td>\n",
       "    </tr>\n",
       "    <tr>\n",
       "      <th>21</th>\n",
       "      <td>90024</td>\n",
       "      <td>2017-11-08</td>\n",
       "      <td>192.0</td>\n",
       "      <td>9</td>\n",
       "    </tr>\n",
       "  </tbody>\n",
       "</table>\n",
       "</div>"
      ],
      "text/plain": [
       "      Zip        Date  Amount  DaysAgo\n",
       "2   90024  2017-10-25   291.0       23\n",
       "3   90024  2017-10-29   734.0       19\n",
       "9   90024  2017-11-04   211.0       13\n",
       "13  90024  2017-11-12   692.0        5\n",
       "21  90024  2017-11-08   192.0        9"
      ]
     },
     "execution_count": 9,
     "metadata": {},
     "output_type": "execute_result"
    }
   ],
   "source": [
    "z24.head()"
   ]
  },
  {
   "cell_type": "markdown",
   "metadata": {},
   "source": [
    "## Then we run a regression on `days ago` and `amount`"
   ]
  },
  {
   "cell_type": "code",
   "execution_count": 10,
   "metadata": {},
   "outputs": [
    {
     "name": "stderr",
     "output_type": "stream",
     "text": [
      "/home/emilio/anaconda3/envs/ml1/lib/python3.6/site-packages/statsmodels/compat/pandas.py:56: FutureWarning: The pandas.core.datetools module is deprecated and will be removed in a future version. Please use the pandas.tseries module instead.\n",
      "  from pandas.core import datetools\n"
     ]
    }
   ],
   "source": [
    "import statsmodels.api as sm\n",
    "import statsmodels.formula.api as smf"
   ]
  },
  {
   "cell_type": "markdown",
   "metadata": {
    "collapsed": true
   },
   "source": [
    "Let's convert the pd.DataFrame into a numpy array that we can use for modeling. Actually since I have my trusty servant `Patsy` I can skip that step. It will do work on the pd.DataFrame."
   ]
  },
  {
   "cell_type": "code",
   "execution_count": 11,
   "metadata": {
    "collapsed": true,
    "scrolled": false
   },
   "outputs": [],
   "source": [
    "#results = smf.ols('y ~ Amount + DaysAgo', data=z24).fit()"
   ]
  },
  {
   "cell_type": "markdown",
   "metadata": {},
   "source": [
    "So that gave me an error.\n",
    "\n",
    "    PatsyError: Error evaluating factor: NameError: name 'y' is not defined\n",
    "        y ~ Amount + DaysAgo\n",
    "        ^\n",
    "\n",
    "I'm trying to do a regression with unlabeled data here. Not going to happen. So maybe I'll try something else. How about the average age of addresses within a zip code versus the ... no I don't have enough terms.\n",
    "\n",
    "How about I just use one term."
   ]
  },
  {
   "cell_type": "code",
   "execution_count": 12,
   "metadata": {
    "collapsed": true,
    "scrolled": false
   },
   "outputs": [],
   "source": [
    "results = smf.ols('Amount ~ DaysAgo', data=z24).fit()"
   ]
  },
  {
   "cell_type": "code",
   "execution_count": 13,
   "metadata": {},
   "outputs": [
    {
     "name": "stdout",
     "output_type": "stream",
     "text": [
      "                            OLS Regression Results                            \n",
      "==============================================================================\n",
      "Dep. Variable:                 Amount   R-squared:                       0.012\n",
      "Model:                            OLS   Adj. R-squared:                  0.007\n",
      "Method:                 Least Squares   F-statistic:                     2.300\n",
      "Date:                Fri, 17 Nov 2017   Prob (F-statistic):              0.131\n",
      "Time:                        23:08:35   Log-Likelihood:                -1289.0\n",
      "No. Observations:                 184   AIC:                             2582.\n",
      "Df Residuals:                     182   BIC:                             2588.\n",
      "Df Model:                           1                                         \n",
      "Covariance Type:            nonrobust                                         \n",
      "==============================================================================\n",
      "                 coef    std err          t      P>|t|      [0.025      0.975]\n",
      "------------------------------------------------------------------------------\n",
      "Intercept    491.1095     34.083     14.409      0.000     423.862     558.357\n",
      "DaysAgo       -2.7645      1.823     -1.517      0.131      -6.361       0.832\n",
      "==============================================================================\n",
      "Omnibus:                      111.695   Durbin-Watson:                   2.054\n",
      "Prob(Omnibus):                  0.000   Jarque-Bera (JB):               12.072\n",
      "Skew:                           0.033   Prob(JB):                      0.00239\n",
      "Kurtosis:                       1.747   Cond. No.                         32.3\n",
      "==============================================================================\n",
      "\n",
      "Warnings:\n",
      "[1] Standard Errors assume that the covariance matrix of the errors is correctly specified.\n"
     ]
    }
   ],
   "source": [
    "print(results.summary())"
   ]
  },
  {
   "cell_type": "code",
   "execution_count": 14,
   "metadata": {
    "collapsed": true
   },
   "outputs": [],
   "source": [
    "x_val = z24['DaysAgo'].values\n",
    "x = sm.add_constant(z24['DaysAgo'].values)\n",
    "\n",
    "y = z24['Amount'].values\n",
    "\n",
    "n = len(x)\n",
    "\n",
    "results = sm.OLS(y, x)\n",
    "\n",
    "fitted = results.fit()\n",
    "\n",
    "x_pred = np.linspace(x.min(), x.max(), n)\n",
    "\n",
    "x_pred2 = sm.add_constant(x_pred)\n",
    "\n",
    "y_pred = fitted.predict(x_pred2)"
   ]
  },
  {
   "cell_type": "code",
   "execution_count": 15,
   "metadata": {},
   "outputs": [
    {
     "data": {
      "text/plain": [
       "[<matplotlib.lines.Line2D at 0x7f9a3408dc18>]"
      ]
     },
     "execution_count": 15,
     "metadata": {},
     "output_type": "execute_result"
    },
    {
     "data": {
      "image/png": "[encoded data removed]",
      "text/plain": [
       "<matplotlib.figure.Figure at 0x7f9a340feac8>"
      ]
     },
     "metadata": {},
     "output_type": "display_data"
    }
   ],
   "source": [
    "fig, ax = plt.subplots(figsize=(15, 5))\n",
    "ax.scatter(x_val, y)\n",
    "fig.suptitle('Example')\n",
    "fig.tight_layout(pad=2)\n",
    "ax.grid(True)\n",
    "\n",
    "ax.plot(x_pred, y_pred, '-')"
   ]
  },
  {
   "cell_type": "markdown",
   "metadata": {},
   "source": [
    "## So what does this look like?"
   ]
  },
  {
   "cell_type": "code",
   "execution_count": 16,
   "metadata": {
    "collapsed": true
   },
   "outputs": [],
   "source": [
    "import seaborn as sns\n",
    "\n",
    "sns.set(color_codes=True)"
   ]
  },
  {
   "cell_type": "code",
   "execution_count": 17,
   "metadata": {},
   "outputs": [
    {
     "data": {
      "text/plain": [
       "<matplotlib.axes._subplots.AxesSubplot at 0x7f9a2fb750b8>"
      ]
     },
     "execution_count": 17,
     "metadata": {},
     "output_type": "execute_result"
    },
    {
     "data": {
      "image/png": "[encoded data removed]",
      "text/plain": [
       "<matplotlib.figure.Figure at 0x7f9a2fb37898>"
      ]
     },
     "metadata": {},
     "output_type": "display_data"
    }
   ],
   "source": [
    "sns.regplot(x=z24['DaysAgo'], y=z24['Amount'], data=z24, ci=False)"
   ]
  },
  {
   "cell_type": "markdown",
   "metadata": {},
   "source": [
    "That looks nice. But it's not the same regression as the summary from `statsmodels`. This one came from `seaborn`. I'll have to figure out how to plot the regression performed by `statsmodels`."
   ]
  },
  {
   "cell_type": "code",
   "execution_count": 18,
   "metadata": {},
   "outputs": [
    {
     "data": {
      "text/plain": [
       "1.9946189924250066"
      ]
     },
     "execution_count": 18,
     "metadata": {},
     "output_type": "execute_result"
    }
   ],
   "source": [
    "np.random.randn()"
   ]
  }
 ],
 "metadata": {
  "kernelspec": {
   "display_name": "Python 3",
   "language": "python",
   "name": "python3"
  },
  "language_info": {
   "codemirror_mode": {
    "name": "ipython",
    "version": 3
   },
   "file_extension": ".py",
   "mimetype": "text/x-python",
   "name": "python",
   "nbconvert_exporter": "python",
   "pygments_lexer": "ipython3",
   "version": "3.6.3"
  }
 },
 "nbformat": 4,
 "nbformat_minor": 2
}
