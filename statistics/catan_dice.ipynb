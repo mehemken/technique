{
 "cells": [
  {
   "cell_type": "code",
   "execution_count": 9,
   "metadata": {
    "collapsed": true
   },
   "outputs": [],
   "source": [
    "import pandas as pd\n",
    "import numpy as np\n",
    "from scipy.stats import chisquare"
   ]
  },
  {
   "cell_type": "markdown",
   "metadata": {},
   "source": [
    "# Chi Square Test\n",
    "\n",
    "I suspect the dice in my Settlers of Catan set are not fair dice. So I wrote down all the outcomes of two games and I'm going to do a Chi Square test for goodness of fit."
   ]
  },
  {
   "cell_type": "markdown",
   "metadata": {},
   "source": [
    "## Load the data"
   ]
  },
  {
   "cell_type": "code",
   "execution_count": 2,
   "metadata": {
    "collapsed": true
   },
   "outputs": [],
   "source": [
    "df = pd.read_csv('../data/catan_dice.csv')"
   ]
  },
  {
   "cell_type": "code",
   "execution_count": 3,
   "metadata": {},
   "outputs": [
    {
     "data": {
      "text/html": [
       "<div>\n",
       "<style scoped>\n",
       "    .dataframe tbody tr th:only-of-type {\n",
       "        vertical-align: middle;\n",
       "    }\n",
       "\n",
       "    .dataframe tbody tr th {\n",
       "        vertical-align: top;\n",
       "    }\n",
       "\n",
       "    .dataframe thead th {\n",
       "        text-align: right;\n",
       "    }\n",
       "</style>\n",
       "<table border=\"1\" class=\"dataframe\">\n",
       "  <thead>\n",
       "    <tr style=\"text-align: right;\">\n",
       "      <th></th>\n",
       "      <th>Value</th>\n",
       "      <th>Count G1</th>\n",
       "      <th>Count G2</th>\n",
       "    </tr>\n",
       "  </thead>\n",
       "  <tbody>\n",
       "    <tr>\n",
       "      <th>0</th>\n",
       "      <td>2</td>\n",
       "      <td>2</td>\n",
       "      <td>1</td>\n",
       "    </tr>\n",
       "  </tbody>\n",
       "</table>\n",
       "</div>"
      ],
      "text/plain": [
       "   Value  Count G1  Count G2\n",
       "0      2         2         1"
      ]
     },
     "execution_count": 3,
     "metadata": {},
     "output_type": "execute_result"
    }
   ],
   "source": [
    "df.head(1)"
   ]
  },
  {
   "cell_type": "markdown",
   "metadata": {},
   "source": [
    "## Set index to roll outcomes"
   ]
  },
  {
   "cell_type": "code",
   "execution_count": 4,
   "metadata": {
    "collapsed": true
   },
   "outputs": [],
   "source": [
    "df = pd.DataFrame(df[['Count G1', 'Count G2']].values, index=df['Value'], columns=['G1', 'G2'])"
   ]
  },
  {
   "cell_type": "code",
   "execution_count": 5,
   "metadata": {},
   "outputs": [
    {
     "data": {
      "text/html": [
       "<div>\n",
       "<style scoped>\n",
       "    .dataframe tbody tr th:only-of-type {\n",
       "        vertical-align: middle;\n",
       "    }\n",
       "\n",
       "    .dataframe tbody tr th {\n",
       "        vertical-align: top;\n",
       "    }\n",
       "\n",
       "    .dataframe thead th {\n",
       "        text-align: right;\n",
       "    }\n",
       "</style>\n",
       "<table border=\"1\" class=\"dataframe\">\n",
       "  <thead>\n",
       "    <tr style=\"text-align: right;\">\n",
       "      <th></th>\n",
       "      <th>G1</th>\n",
       "      <th>G2</th>\n",
       "    </tr>\n",
       "    <tr>\n",
       "      <th>Value</th>\n",
       "      <th></th>\n",
       "      <th></th>\n",
       "    </tr>\n",
       "  </thead>\n",
       "  <tbody>\n",
       "    <tr>\n",
       "      <th>2</th>\n",
       "      <td>2</td>\n",
       "      <td>1</td>\n",
       "    </tr>\n",
       "  </tbody>\n",
       "</table>\n",
       "</div>"
      ],
      "text/plain": [
       "       G1  G2\n",
       "Value        \n",
       "2       2   1"
      ]
     },
     "execution_count": 5,
     "metadata": {},
     "output_type": "execute_result"
    }
   ],
   "source": [
    "df.head(1)"
   ]
  },
  {
   "cell_type": "markdown",
   "metadata": {},
   "source": [
    "## Add a total observations column"
   ]
  },
  {
   "cell_type": "code",
   "execution_count": 6,
   "metadata": {
    "collapsed": true
   },
   "outputs": [],
   "source": [
    "def both_games(x):\n",
    "    '''Use axis=1'''\n",
    "    a, b = x\n",
    "    return int(a) + int(b)"
   ]
  },
  {
   "cell_type": "code",
   "execution_count": 7,
   "metadata": {},
   "outputs": [],
   "source": [
    "df['Both'] = df.apply(both_games, axis=1)"
   ]
  },
  {
   "cell_type": "code",
   "execution_count": 8,
   "metadata": {},
   "outputs": [
    {
     "data": {
      "text/html": [
       "<div>\n",
       "<style scoped>\n",
       "    .dataframe tbody tr th:only-of-type {\n",
       "        vertical-align: middle;\n",
       "    }\n",
       "\n",
       "    .dataframe tbody tr th {\n",
       "        vertical-align: top;\n",
       "    }\n",
       "\n",
       "    .dataframe thead th {\n",
       "        text-align: right;\n",
       "    }\n",
       "</style>\n",
       "<table border=\"1\" class=\"dataframe\">\n",
       "  <thead>\n",
       "    <tr style=\"text-align: right;\">\n",
       "      <th></th>\n",
       "      <th>G1</th>\n",
       "      <th>G2</th>\n",
       "      <th>Both</th>\n",
       "    </tr>\n",
       "    <tr>\n",
       "      <th>Value</th>\n",
       "      <th></th>\n",
       "      <th></th>\n",
       "      <th></th>\n",
       "    </tr>\n",
       "  </thead>\n",
       "  <tbody>\n",
       "    <tr>\n",
       "      <th>2</th>\n",
       "      <td>2</td>\n",
       "      <td>1</td>\n",
       "      <td>3</td>\n",
       "    </tr>\n",
       "  </tbody>\n",
       "</table>\n",
       "</div>"
      ],
      "text/plain": [
       "       G1  G2  Both\n",
       "Value              \n",
       "2       2   1     3"
      ]
     },
     "execution_count": 8,
     "metadata": {},
     "output_type": "execute_result"
    }
   ],
   "source": [
    "df.head(1)"
   ]
  },
  {
   "cell_type": "markdown",
   "metadata": {},
   "source": [
    "## Find the expected outcomes"
   ]
  },
  {
   "cell_type": "code",
   "execution_count": 10,
   "metadata": {
    "collapsed": true
   },
   "outputs": [],
   "source": [
    "outcomes_dict = {}"
   ]
  },
  {
   "cell_type": "code",
   "execution_count": 11,
   "metadata": {
    "collapsed": true
   },
   "outputs": [],
   "source": [
    "for col in df.columns:\n",
    "    outcomes_dict[col] = df[col].sum()"
   ]
  },
  {
   "cell_type": "code",
   "execution_count": 12,
   "metadata": {},
   "outputs": [
    {
     "data": {
      "text/plain": [
       "{'Both': 83, 'G1': 52, 'G2': 31}"
      ]
     },
     "execution_count": 12,
     "metadata": {},
     "output_type": "execute_result"
    }
   ],
   "source": [
    "outcomes_dict"
   ]
  },
  {
   "cell_type": "code",
   "execution_count": 29,
   "metadata": {},
   "outputs": [
    {
     "data": {
      "text/plain": [
       "[1, 2, 3, 4, 5, 6]"
      ]
     },
     "execution_count": 29,
     "metadata": {},
     "output_type": "execute_result"
    }
   ],
   "source": [
    "rolls = [i for i in range(1,7)]\n",
    "rolls"
   ]
  },
  {
   "cell_type": "code",
   "execution_count": 30,
   "metadata": {
    "collapsed": true
   },
   "outputs": [],
   "source": [
    "from collections import defaultdict"
   ]
  },
  {
   "cell_type": "code",
   "execution_count": 31,
   "metadata": {
    "collapsed": true
   },
   "outputs": [],
   "source": [
    "expected = defaultdict(float)"
   ]
  },
  {
   "cell_type": "code",
   "execution_count": 32,
   "metadata": {
    "collapsed": true
   },
   "outputs": [],
   "source": [
    "for i in range(1,13):\n",
    "    for j in rolls:\n",
    "        for k in rolls:\n",
    "            if j+k == i:\n",
    "                expected[i] += 1/36"
   ]
  },
  {
   "cell_type": "code",
   "execution_count": 33,
   "metadata": {},
   "outputs": [
    {
     "data": {
      "text/plain": [
       "defaultdict(float,\n",
       "            {2: 0.027777777777777776,\n",
       "             3: 0.05555555555555555,\n",
       "             4: 0.08333333333333333,\n",
       "             5: 0.1111111111111111,\n",
       "             6: 0.1388888888888889,\n",
       "             7: 0.16666666666666669,\n",
       "             8: 0.1388888888888889,\n",
       "             9: 0.1111111111111111,\n",
       "             10: 0.08333333333333333,\n",
       "             11: 0.05555555555555555,\n",
       "             12: 0.027777777777777776})"
      ]
     },
     "execution_count": 33,
     "metadata": {},
     "output_type": "execute_result"
    }
   ],
   "source": [
    "expected"
   ]
  },
  {
   "cell_type": "code",
   "execution_count": 37,
   "metadata": {},
   "outputs": [
    {
     "data": {
      "text/plain": [
       "array([ 0.02777778,  0.05555556,  0.08333333,  0.11111111,  0.13888889,\n",
       "        0.16666667,  0.13888889,  0.11111111,  0.08333333,  0.05555556,\n",
       "        0.02777778])"
      ]
     },
     "execution_count": 37,
     "metadata": {},
     "output_type": "execute_result"
    }
   ],
   "source": [
    "e = np.array(list(expected.values()))\n",
    "e"
   ]
  },
  {
   "cell_type": "code",
   "execution_count": 40,
   "metadata": {},
   "outputs": [
    {
     "name": "stdout",
     "output_type": "stream",
     "text": [
      "[ 1.44444444  2.88888889  4.33333333  5.77777778  7.22222222  8.66666667\n",
      "  7.22222222  5.77777778  4.33333333  2.88888889  1.44444444] \n",
      "\n",
      "[ 0.86111111  1.72222222  2.58333333  3.44444444  4.30555556  5.16666667\n",
      "  4.30555556  3.44444444  2.58333333  1.72222222  0.86111111] \n",
      "\n",
      "[  2.30555556   4.61111111   6.91666667   9.22222222  11.52777778\n",
      "  13.83333333  11.52777778   9.22222222   6.91666667   4.61111111\n",
      "   2.30555556] \n",
      "\n"
     ]
    }
   ],
   "source": [
    "for col in df.columns:\n",
    "    # use outcomes_dict\n",
    "    ex = outcomes_dict[col]*e\n",
    "    df[f'e_{col}'] = ex\n",
    "    print(ex, '\\n')"
   ]
  },
  {
   "cell_type": "code",
   "execution_count": 41,
   "metadata": {},
   "outputs": [
    {
     "data": {
      "text/html": [
       "<div>\n",
       "<style scoped>\n",
       "    .dataframe tbody tr th:only-of-type {\n",
       "        vertical-align: middle;\n",
       "    }\n",
       "\n",
       "    .dataframe tbody tr th {\n",
       "        vertical-align: top;\n",
       "    }\n",
       "\n",
       "    .dataframe thead th {\n",
       "        text-align: right;\n",
       "    }\n",
       "</style>\n",
       "<table border=\"1\" class=\"dataframe\">\n",
       "  <thead>\n",
       "    <tr style=\"text-align: right;\">\n",
       "      <th></th>\n",
       "      <th>G1</th>\n",
       "      <th>G2</th>\n",
       "      <th>Both</th>\n",
       "      <th>e_G1</th>\n",
       "      <th>e_G2</th>\n",
       "      <th>e_Both</th>\n",
       "    </tr>\n",
       "    <tr>\n",
       "      <th>Value</th>\n",
       "      <th></th>\n",
       "      <th></th>\n",
       "      <th></th>\n",
       "      <th></th>\n",
       "      <th></th>\n",
       "      <th></th>\n",
       "    </tr>\n",
       "  </thead>\n",
       "  <tbody>\n",
       "    <tr>\n",
       "      <th>2</th>\n",
       "      <td>2</td>\n",
       "      <td>1</td>\n",
       "      <td>3</td>\n",
       "      <td>1.444444</td>\n",
       "      <td>0.861111</td>\n",
       "      <td>2.305556</td>\n",
       "    </tr>\n",
       "  </tbody>\n",
       "</table>\n",
       "</div>"
      ],
      "text/plain": [
       "       G1  G2  Both      e_G1      e_G2    e_Both\n",
       "Value                                            \n",
       "2       2   1     3  1.444444  0.861111  2.305556"
      ]
     },
     "execution_count": 41,
     "metadata": {},
     "output_type": "execute_result"
    }
   ],
   "source": [
    "df.head(1)"
   ]
  },
  {
   "cell_type": "markdown",
   "metadata": {},
   "source": [
    "## Chi Square test\n",
    "\n",
    "    chisq, p = scipy.stats.chisquare(f_obs, f_exp=None, ddof=0, axis=0)\n",
    "\n",
    "[Citation](https://docs.scipy.org/doc/scipy/reference/generated/scipy.stats.chisquare.html)"
   ]
  },
  {
   "cell_type": "code",
   "execution_count": 63,
   "metadata": {},
   "outputs": [
    {
     "data": {
      "text/plain": [
       "{'Both': ['Both', 'e_Both'], 'G1': ['G1', 'e_G1'], 'G2': ['G2', 'e_G2']}"
      ]
     },
     "execution_count": 63,
     "metadata": {},
     "output_type": "execute_result"
    }
   ],
   "source": [
    "d = {\n",
    "    'G1': [i for i in df.columns if 'G1' in i],\n",
    "    'G2': [i for i in df.columns if 'G2' in i],\n",
    "    'Both': [i for i in df.columns if 'Both' in i]\n",
    "}\n",
    "d"
   ]
  },
  {
   "cell_type": "code",
   "execution_count": 81,
   "metadata": {},
   "outputs": [
    {
     "name": "stdout",
     "output_type": "stream",
     "text": [
      "Group:              G1\n",
      "Chisq:              9.903846153846153\n",
      "P:                  0.3583254114540303\n",
      "Observed/Expected pairs:\n",
      "2   | 2  / 1.4\n",
      "3   | 2  / 2.9\n",
      "4   | 5  / 4.3\n",
      "5   | 5  / 5.8\n",
      "6   | 13 / 7.2\n",
      "7   | 6  / 8.7\n",
      "8   | 6  / 7.2\n",
      "9   | 4  / 5.8\n",
      "10  | 7  / 4.3\n",
      "11  | 1  / 2.9\n",
      "12  | 1  / 1.4\n",
      "------------------------------\n",
      "Group:              G2\n",
      "Chisq:              22.283870967741937\n",
      "P:                  0.008021552465671324\n",
      "Observed/Expected pairs:\n",
      "2   | 1  / 0.86\n",
      "3   | 2  / 1.7\n",
      "4   | 0  / 2.6\n",
      "5   | 10 / 3.4\n",
      "6   | 7  / 4.3\n",
      "7   | 3  / 5.2\n",
      "8   | 5  / 4.3\n",
      "9   | 1  / 3.4\n",
      "10  | 2  / 2.6\n",
      "11  | 0  / 1.7\n",
      "12  | 0  / 0.86\n",
      "------------------------------\n",
      "Group:              Both\n",
      "Chisq:              18.50843373493976\n",
      "P:                  0.02971258262498292\n",
      "Observed/Expected pairs:\n",
      "2   | 3  / 2.3\n",
      "3   | 4  / 4.6\n",
      "4   | 5  / 6.9\n",
      "5   | 15 / 9.2\n",
      "6   | 20 / 1.2e+01\n",
      "7   | 9  / 1.4e+01\n",
      "8   | 11 / 1.2e+01\n",
      "9   | 5  / 9.2\n",
      "10  | 9  / 6.9\n",
      "11  | 1  / 4.6\n",
      "12  | 1  / 2.3\n",
      "------------------------------\n"
     ]
    }
   ],
   "source": [
    "for i, j in d.items():\n",
    "    obs = df[j[0]].values\n",
    "    exp = df[j[1]].values\n",
    "    chi, p = chisquare(obs, exp, ddof=1)\n",
    "    print(f'{\"Group:\": <20}{i}')\n",
    "    print(f'{\"Chisq:\": <20}{chi}')\n",
    "    print(f'{\"P:\": <20}{p}')\n",
    "    print('Observed/Expected pairs:')\n",
    "    pairs = [(i,j,k) for i, j, k in zip(df.index, obs, exp)]\n",
    "    for i, j, k in pairs:\n",
    "        print(f'{i: <3} | {j: <2} / {k:.2}')\n",
    "    print(f'{\"\":->30}')"
   ]
  },
  {
   "cell_type": "markdown",
   "metadata": {},
   "source": [
    "## Trial 1"
   ]
  },
  {
   "cell_type": "code",
   "execution_count": 18,
   "metadata": {
    "collapsed": true
   },
   "outputs": [],
   "source": [
    "g = df.groupby(df.columns, axis=1)"
   ]
  },
  {
   "cell_type": "code",
   "execution_count": 26,
   "metadata": {},
   "outputs": [
    {
     "name": "stdout",
     "output_type": "stream",
     "text": [
      "Both\n",
      "Expected: 13.833333333333334\n",
      "Observations: [ 3  4  5 15 20  9 11  5  9  1  1]\n",
      "Chisq: 57.371485943775106\n",
      "P: 4.289809063646293e-09\n",
      "--------------------\n",
      "G1\n",
      "Expected: 8.666666666666666\n",
      "Observations: [ 2  2  5  5 13  6  6  4  7  1  1]\n",
      "Chisq: 33.56410256410256\n",
      "P: 0.00010647586941053547\n",
      "--------------------\n",
      "G2\n",
      "Expected: 5.166666666666667\n",
      "Observations: [ 1  2  0 10  7  3  5  1  2  0  0]\n",
      "Chisq: 32.18817204301075\n",
      "P: 0.00018474996356524843\n",
      "--------------------\n"
     ]
    }
   ],
   "source": [
    "for name, group in g:\n",
    "    print(name)\n",
    "    obs = group.values.T[0]\n",
    "    x = exp[name]\n",
    "    print(f'Expected: {x}')\n",
    "    print(f'Observations: {obs}')\n",
    "    c, p = chisquare(obs, x, ddof=1)\n",
    "    print(f'Chisq: {c}')\n",
    "    print(f'P: {p}')\n",
    "    print(f'{\"\":->20}')"
   ]
  }
 ],
 "metadata": {
  "kernelspec": {
   "display_name": "Python 3",
   "language": "python",
   "name": "python3"
  },
  "language_info": {
   "codemirror_mode": {
    "name": "ipython",
    "version": 3
   },
   "file_extension": ".py",
   "mimetype": "text/x-python",
   "name": "python",
   "nbconvert_exporter": "python",
   "pygments_lexer": "ipython3",
   "version": "3.6.3"
  }
 },
 "nbformat": 4,
 "nbformat_minor": 2
}
