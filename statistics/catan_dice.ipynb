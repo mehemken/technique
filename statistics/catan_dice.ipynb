{
 "cells": [
  {
   "cell_type": "code",
   "execution_count": 1,
   "metadata": {
    "collapsed": true
   },
   "outputs": [],
   "source": [
    "import pandas as pd\n",
    "import numpy as np\n",
    "from scipy.stats import chisquare"
   ]
  },
  {
   "cell_type": "markdown",
   "metadata": {},
   "source": [
    "# Chi Square Test\n",
    "\n",
    "I suspect the dice in my Settlers of Catan set are not fair dice. So I wrote down all the outcomes of two games and I'm going to do a Chi Square test for goodness of fit.\n",
    "\n",
    "[TL;DR](#end)"
   ]
  },
  {
   "cell_type": "markdown",
   "metadata": {},
   "source": [
    "# Load the data and make it pretty"
   ]
  },
  {
   "cell_type": "code",
   "execution_count": 2,
   "metadata": {},
   "outputs": [
    {
     "data": {
      "text/html": [
       "<div>\n",
       "<style scoped>\n",
       "    .dataframe tbody tr th:only-of-type {\n",
       "        vertical-align: middle;\n",
       "    }\n",
       "\n",
       "    .dataframe tbody tr th {\n",
       "        vertical-align: top;\n",
       "    }\n",
       "\n",
       "    .dataframe thead th {\n",
       "        text-align: right;\n",
       "    }\n",
       "</style>\n",
       "<table border=\"1\" class=\"dataframe\">\n",
       "  <thead>\n",
       "    <tr style=\"text-align: right;\">\n",
       "      <th></th>\n",
       "      <th>Value</th>\n",
       "      <th>Count G1</th>\n",
       "      <th>Count G2</th>\n",
       "    </tr>\n",
       "  </thead>\n",
       "  <tbody>\n",
       "    <tr>\n",
       "      <th>0</th>\n",
       "      <td>2</td>\n",
       "      <td>2</td>\n",
       "      <td>1</td>\n",
       "    </tr>\n",
       "  </tbody>\n",
       "</table>\n",
       "</div>"
      ],
      "text/plain": [
       "   Value  Count G1  Count G2\n",
       "0      2         2         1"
      ]
     },
     "execution_count": 2,
     "metadata": {},
     "output_type": "execute_result"
    }
   ],
   "source": [
    "raw = pd.read_csv('../data/catan_dice.csv')\n",
    "raw.head(1)"
   ]
  },
  {
   "cell_type": "code",
   "execution_count": 3,
   "metadata": {},
   "outputs": [
    {
     "data": {
      "text/html": [
       "<div>\n",
       "<style scoped>\n",
       "    .dataframe tbody tr th:only-of-type {\n",
       "        vertical-align: middle;\n",
       "    }\n",
       "\n",
       "    .dataframe tbody tr th {\n",
       "        vertical-align: top;\n",
       "    }\n",
       "\n",
       "    .dataframe thead th {\n",
       "        text-align: right;\n",
       "    }\n",
       "</style>\n",
       "<table border=\"1\" class=\"dataframe\">\n",
       "  <thead>\n",
       "    <tr style=\"text-align: right;\">\n",
       "      <th></th>\n",
       "      <th>G1</th>\n",
       "      <th>G2</th>\n",
       "    </tr>\n",
       "    <tr>\n",
       "      <th>Value</th>\n",
       "      <th></th>\n",
       "      <th></th>\n",
       "    </tr>\n",
       "  </thead>\n",
       "  <tbody>\n",
       "    <tr>\n",
       "      <th>2</th>\n",
       "      <td>2</td>\n",
       "      <td>1</td>\n",
       "    </tr>\n",
       "  </tbody>\n",
       "</table>\n",
       "</div>"
      ],
      "text/plain": [
       "       G1  G2\n",
       "Value        \n",
       "2       2   1"
      ]
     },
     "execution_count": 3,
     "metadata": {},
     "output_type": "execute_result"
    }
   ],
   "source": [
    "df = pd.DataFrame(\n",
    "    raw[['Count G1', 'Count G2']].values,\n",
    "    index=raw['Value'],\n",
    "    columns=['G1', 'G2']\n",
    ")\n",
    "\n",
    "df.head(1)"
   ]
  },
  {
   "cell_type": "markdown",
   "metadata": {},
   "source": [
    "# Roll outcomes for each game and sum of both"
   ]
  },
  {
   "cell_type": "code",
   "execution_count": 4,
   "metadata": {},
   "outputs": [
    {
     "data": {
      "text/html": [
       "<div>\n",
       "<style scoped>\n",
       "    .dataframe tbody tr th:only-of-type {\n",
       "        vertical-align: middle;\n",
       "    }\n",
       "\n",
       "    .dataframe tbody tr th {\n",
       "        vertical-align: top;\n",
       "    }\n",
       "\n",
       "    .dataframe thead th {\n",
       "        text-align: right;\n",
       "    }\n",
       "</style>\n",
       "<table border=\"1\" class=\"dataframe\">\n",
       "  <thead>\n",
       "    <tr style=\"text-align: right;\">\n",
       "      <th></th>\n",
       "      <th>G1</th>\n",
       "      <th>G2</th>\n",
       "      <th>Both</th>\n",
       "    </tr>\n",
       "    <tr>\n",
       "      <th>Value</th>\n",
       "      <th></th>\n",
       "      <th></th>\n",
       "      <th></th>\n",
       "    </tr>\n",
       "  </thead>\n",
       "  <tbody>\n",
       "    <tr>\n",
       "      <th>2</th>\n",
       "      <td>2</td>\n",
       "      <td>1</td>\n",
       "      <td>3</td>\n",
       "    </tr>\n",
       "    <tr>\n",
       "      <th>3</th>\n",
       "      <td>2</td>\n",
       "      <td>2</td>\n",
       "      <td>4</td>\n",
       "    </tr>\n",
       "    <tr>\n",
       "      <th>4</th>\n",
       "      <td>5</td>\n",
       "      <td>0</td>\n",
       "      <td>5</td>\n",
       "    </tr>\n",
       "    <tr>\n",
       "      <th>5</th>\n",
       "      <td>5</td>\n",
       "      <td>10</td>\n",
       "      <td>15</td>\n",
       "    </tr>\n",
       "    <tr>\n",
       "      <th>6</th>\n",
       "      <td>13</td>\n",
       "      <td>7</td>\n",
       "      <td>20</td>\n",
       "    </tr>\n",
       "    <tr>\n",
       "      <th>7</th>\n",
       "      <td>6</td>\n",
       "      <td>3</td>\n",
       "      <td>9</td>\n",
       "    </tr>\n",
       "    <tr>\n",
       "      <th>8</th>\n",
       "      <td>6</td>\n",
       "      <td>5</td>\n",
       "      <td>11</td>\n",
       "    </tr>\n",
       "    <tr>\n",
       "      <th>9</th>\n",
       "      <td>4</td>\n",
       "      <td>1</td>\n",
       "      <td>5</td>\n",
       "    </tr>\n",
       "    <tr>\n",
       "      <th>10</th>\n",
       "      <td>7</td>\n",
       "      <td>2</td>\n",
       "      <td>9</td>\n",
       "    </tr>\n",
       "    <tr>\n",
       "      <th>11</th>\n",
       "      <td>1</td>\n",
       "      <td>0</td>\n",
       "      <td>1</td>\n",
       "    </tr>\n",
       "    <tr>\n",
       "      <th>12</th>\n",
       "      <td>1</td>\n",
       "      <td>0</td>\n",
       "      <td>1</td>\n",
       "    </tr>\n",
       "  </tbody>\n",
       "</table>\n",
       "</div>"
      ],
      "text/plain": [
       "       G1  G2  Both\n",
       "Value              \n",
       "2       2   1     3\n",
       "3       2   2     4\n",
       "4       5   0     5\n",
       "5       5  10    15\n",
       "6      13   7    20\n",
       "7       6   3     9\n",
       "8       6   5    11\n",
       "9       4   1     5\n",
       "10      7   2     9\n",
       "11      1   0     1\n",
       "12      1   0     1"
      ]
     },
     "execution_count": 4,
     "metadata": {},
     "output_type": "execute_result"
    }
   ],
   "source": [
    "df['Both'] = df['G1'] + df['G2']\n",
    "df"
   ]
  },
  {
   "cell_type": "markdown",
   "metadata": {},
   "source": [
    "# Get expected distribution for the sum of two dice"
   ]
  },
  {
   "cell_type": "code",
   "execution_count": 5,
   "metadata": {
    "collapsed": true
   },
   "outputs": [],
   "source": [
    "from collections import defaultdict"
   ]
  },
  {
   "cell_type": "code",
   "execution_count": 6,
   "metadata": {},
   "outputs": [
    {
     "name": "stdout",
     "output_type": "stream",
     "text": [
      "Probability of the sum of two dice\n"
     ]
    },
    {
     "data": {
      "text/plain": [
       "2     0.027778\n",
       "3     0.055556\n",
       "4     0.083333\n",
       "5     0.111111\n",
       "6     0.138889\n",
       "7     0.166667\n",
       "8     0.138889\n",
       "9     0.111111\n",
       "10    0.083333\n",
       "11    0.055556\n",
       "12    0.027778\n",
       "dtype: float64"
      ]
     },
     "execution_count": 6,
     "metadata": {},
     "output_type": "execute_result"
    }
   ],
   "source": [
    "e = defaultdict(float)\n",
    "\n",
    "for i in range(1,7):\n",
    "    for j in range(1,7):\n",
    "        e[i+j] += 1/36\n",
    "\n",
    "expected = pd.Series(e)\n",
    "\n",
    "print('Probability of the sum of two dice')\n",
    "expected"
   ]
  },
  {
   "cell_type": "markdown",
   "metadata": {},
   "source": [
    "# Find expected outcomes based on total rolls"
   ]
  },
  {
   "cell_type": "code",
   "execution_count": 7,
   "metadata": {},
   "outputs": [
    {
     "name": "stdout",
     "output_type": "stream",
     "text": [
      "G1   had 52 observations.\n",
      "G2   had 31 observations.\n",
      "Both had 83 observations.\n"
     ]
    },
    {
     "data": {
      "text/html": [
       "<div>\n",
       "<style scoped>\n",
       "    .dataframe tbody tr th:only-of-type {\n",
       "        vertical-align: middle;\n",
       "    }\n",
       "\n",
       "    .dataframe tbody tr th {\n",
       "        vertical-align: top;\n",
       "    }\n",
       "\n",
       "    .dataframe thead th {\n",
       "        text-align: right;\n",
       "    }\n",
       "</style>\n",
       "<table border=\"1\" class=\"dataframe\">\n",
       "  <thead>\n",
       "    <tr style=\"text-align: right;\">\n",
       "      <th></th>\n",
       "      <th>G1</th>\n",
       "      <th>G2</th>\n",
       "      <th>Both</th>\n",
       "    </tr>\n",
       "    <tr>\n",
       "      <th>Value</th>\n",
       "      <th></th>\n",
       "      <th></th>\n",
       "      <th></th>\n",
       "    </tr>\n",
       "  </thead>\n",
       "  <tbody>\n",
       "    <tr>\n",
       "      <th>2</th>\n",
       "      <td>1.444444</td>\n",
       "      <td>0.861111</td>\n",
       "      <td>2.305556</td>\n",
       "    </tr>\n",
       "    <tr>\n",
       "      <th>3</th>\n",
       "      <td>2.888889</td>\n",
       "      <td>1.722222</td>\n",
       "      <td>4.611111</td>\n",
       "    </tr>\n",
       "    <tr>\n",
       "      <th>4</th>\n",
       "      <td>4.333333</td>\n",
       "      <td>2.583333</td>\n",
       "      <td>6.916667</td>\n",
       "    </tr>\n",
       "    <tr>\n",
       "      <th>5</th>\n",
       "      <td>5.777778</td>\n",
       "      <td>3.444444</td>\n",
       "      <td>9.222222</td>\n",
       "    </tr>\n",
       "    <tr>\n",
       "      <th>6</th>\n",
       "      <td>7.222222</td>\n",
       "      <td>4.305556</td>\n",
       "      <td>11.527778</td>\n",
       "    </tr>\n",
       "    <tr>\n",
       "      <th>7</th>\n",
       "      <td>8.666667</td>\n",
       "      <td>5.166667</td>\n",
       "      <td>13.833333</td>\n",
       "    </tr>\n",
       "    <tr>\n",
       "      <th>8</th>\n",
       "      <td>7.222222</td>\n",
       "      <td>4.305556</td>\n",
       "      <td>11.527778</td>\n",
       "    </tr>\n",
       "    <tr>\n",
       "      <th>9</th>\n",
       "      <td>5.777778</td>\n",
       "      <td>3.444444</td>\n",
       "      <td>9.222222</td>\n",
       "    </tr>\n",
       "    <tr>\n",
       "      <th>10</th>\n",
       "      <td>4.333333</td>\n",
       "      <td>2.583333</td>\n",
       "      <td>6.916667</td>\n",
       "    </tr>\n",
       "    <tr>\n",
       "      <th>11</th>\n",
       "      <td>2.888889</td>\n",
       "      <td>1.722222</td>\n",
       "      <td>4.611111</td>\n",
       "    </tr>\n",
       "    <tr>\n",
       "      <th>12</th>\n",
       "      <td>1.444444</td>\n",
       "      <td>0.861111</td>\n",
       "      <td>2.305556</td>\n",
       "    </tr>\n",
       "  </tbody>\n",
       "</table>\n",
       "</div>"
      ],
      "text/plain": [
       "             G1        G2       Both\n",
       "Value                               \n",
       "2      1.444444  0.861111   2.305556\n",
       "3      2.888889  1.722222   4.611111\n",
       "4      4.333333  2.583333   6.916667\n",
       "5      5.777778  3.444444   9.222222\n",
       "6      7.222222  4.305556  11.527778\n",
       "7      8.666667  5.166667  13.833333\n",
       "8      7.222222  4.305556  11.527778\n",
       "9      5.777778  3.444444   9.222222\n",
       "10     4.333333  2.583333   6.916667\n",
       "11     2.888889  1.722222   4.611111\n",
       "12     1.444444  0.861111   2.305556"
      ]
     },
     "execution_count": 7,
     "metadata": {},
     "output_type": "execute_result"
    }
   ],
   "source": [
    "xdf = pd.DataFrame(index=df.index)\n",
    "\n",
    "for col in df.columns:\n",
    "    \n",
    "    total_observations = df[col].sum()\n",
    "    xdf[col] = total_observations * expected.values\n",
    "    \n",
    "    print(f'{col: <4} had {total_observations} observations.')\n",
    "\n",
    "xdf"
   ]
  },
  {
   "cell_type": "markdown",
   "metadata": {},
   "source": [
    "## Chi Square test\n",
    "\n",
    "    chisq, p = scipy.stats.chisquare(f_obs, f_exp=None, ddof=0, axis=0)\n",
    "\n",
    "[Citation](https://docs.scipy.org/doc/scipy/reference/generated/scipy.stats.chisquare.html)"
   ]
  },
  {
   "cell_type": "code",
   "execution_count": 8,
   "metadata": {},
   "outputs": [
    {
     "name": "stdout",
     "output_type": "stream",
     "text": [
      "\n",
      "==============================\n",
      "Group:    G1\n",
      "Chisq:    9.904\n",
      "P:        0.3583\n",
      "       Expected  Observed\n",
      "Value                    \n",
      "2      1.444444         2\n",
      "3      2.888889         2\n",
      "4      4.333333         5\n",
      "5      5.777778         5\n",
      "6      7.222222        13\n",
      "7      8.666667         6\n",
      "8      7.222222         6\n",
      "9      5.777778         4\n",
      "10     4.333333         7\n",
      "11     2.888889         1\n",
      "12     1.444444         1\n",
      "==============================\n",
      "\n",
      "\n",
      "==============================\n",
      "Group:    G2\n",
      "Chisq:    22.28\n",
      "P:        0.008022\n",
      "       Expected  Observed\n",
      "Value                    \n",
      "2      0.861111         1\n",
      "3      1.722222         2\n",
      "4      2.583333         0\n",
      "5      3.444444        10\n",
      "6      4.305556         7\n",
      "7      5.166667         3\n",
      "8      4.305556         5\n",
      "9      3.444444         1\n",
      "10     2.583333         2\n",
      "11     1.722222         0\n",
      "12     0.861111         0\n",
      "==============================\n",
      "\n",
      "\n",
      "==============================\n",
      "Group:    Both\n",
      "Chisq:    18.51\n",
      "P:        0.02971\n",
      "        Expected  Observed\n",
      "Value                     \n",
      "2       2.305556         3\n",
      "3       4.611111         4\n",
      "4       6.916667         5\n",
      "5       9.222222        15\n",
      "6      11.527778        20\n",
      "7      13.833333         9\n",
      "8      11.527778        11\n",
      "9       9.222222         5\n",
      "10      6.916667         9\n",
      "11      4.611111         1\n",
      "12      2.305556         1\n",
      "==============================\n",
      "\n"
     ]
    }
   ],
   "source": [
    "for col in df.columns:\n",
    "    \n",
    "    oe = pd.DataFrame({\n",
    "        'Observed': df[col],\n",
    "        'Expected': xdf[col]\n",
    "    })\n",
    "    \n",
    "    chisq, p = chisquare(oe['Observed'], oe['Expected'], ddof=1)\n",
    "    \n",
    "    w = 10  # For formatting purposes\n",
    "    print(\n",
    "        f'\\n{\"\":=>30}\\n'\n",
    "        \n",
    "        f'{\"Group:\": <{w}}{col}\\n'\n",
    "        f'{\"Chisq:\": <{w}}{chisq:.4}\\n'\n",
    "        f'{\"P:\": <{w}}{p:.4}\\n'        \n",
    "        f'{oe}\\n'\n",
    "        \n",
    "        f'{\"\":=>30}\\n')"
   ]
  },
  {
   "cell_type": "markdown",
   "metadata": {},
   "source": [
    "# Conclusion <a class=\"anchor\" id=\"end\" />\n",
    "\n",
    "I don't like the look of this. Game one was ok. But Game two was absolutely a fluke! (If we assume the dice are fair.) But let's say there were too few rolls in game two. When we combine the games we still get something I don't quite like.\n",
    "\n",
    "If we assume the dice are fair, we have a 2% chance that the observed distribution is at least this far from the expected distribution. Ok 2% is not so bad... but I lost game two because all of my opponents were on hexes with 5s on them and they all did better than me so... I conclude that the game was rigged in their favor."
   ]
  }
 ],
 "metadata": {
  "kernelspec": {
   "display_name": "Python 3",
   "language": "python",
   "name": "python3"
  },
  "language_info": {
   "codemirror_mode": {
    "name": "ipython",
    "version": 3
   },
   "file_extension": ".py",
   "mimetype": "text/x-python",
   "name": "python",
   "nbconvert_exporter": "python",
   "pygments_lexer": "ipython3",
   "version": "3.6.3"
  }
 },
 "nbformat": 4,
 "nbformat_minor": 2
}
