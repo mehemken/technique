{
 "cells": [
  {
   "cell_type": "code",
   "execution_count": 1,
   "metadata": {
    "collapsed": true
   },
   "outputs": [],
   "source": [
    "import pandas as pd\n",
    "import numpy as np\n",
    "from scipy.stats import chisquare"
   ]
  },
  {
   "cell_type": "markdown",
   "metadata": {},
   "source": [
    "# Chi Square Test\n",
    "\n",
    "I suspect the dice in my Settlers of Catan set are not fair dice. So I wrote down all the outcomes of two games and I'm going to do a Chi Square test for goodness of fit."
   ]
  },
  {
   "cell_type": "markdown",
   "metadata": {},
   "source": [
    "# Load the data"
   ]
  },
  {
   "cell_type": "code",
   "execution_count": 2,
   "metadata": {
    "collapsed": true
   },
   "outputs": [],
   "source": [
    "df = pd.read_csv('../data/catan_dice.csv')"
   ]
  },
  {
   "cell_type": "code",
   "execution_count": 3,
   "metadata": {},
   "outputs": [
    {
     "data": {
      "text/html": [
       "<div>\n",
       "<style scoped>\n",
       "    .dataframe tbody tr th:only-of-type {\n",
       "        vertical-align: middle;\n",
       "    }\n",
       "\n",
       "    .dataframe tbody tr th {\n",
       "        vertical-align: top;\n",
       "    }\n",
       "\n",
       "    .dataframe thead th {\n",
       "        text-align: right;\n",
       "    }\n",
       "</style>\n",
       "<table border=\"1\" class=\"dataframe\">\n",
       "  <thead>\n",
       "    <tr style=\"text-align: right;\">\n",
       "      <th></th>\n",
       "      <th>Value</th>\n",
       "      <th>Count G1</th>\n",
       "      <th>Count G2</th>\n",
       "    </tr>\n",
       "  </thead>\n",
       "  <tbody>\n",
       "    <tr>\n",
       "      <th>0</th>\n",
       "      <td>2</td>\n",
       "      <td>2</td>\n",
       "      <td>1</td>\n",
       "    </tr>\n",
       "  </tbody>\n",
       "</table>\n",
       "</div>"
      ],
      "text/plain": [
       "   Value  Count G1  Count G2\n",
       "0      2         2         1"
      ]
     },
     "execution_count": 3,
     "metadata": {},
     "output_type": "execute_result"
    }
   ],
   "source": [
    "df.head(1)"
   ]
  },
  {
   "cell_type": "markdown",
   "metadata": {},
   "source": [
    "# Set index to roll outcomes\n",
    "\n",
    "Where `G1` is 'game 1' and `G2` is 'game 2'."
   ]
  },
  {
   "cell_type": "code",
   "execution_count": 4,
   "metadata": {},
   "outputs": [],
   "source": [
    "df = pd.DataFrame(df[['Count G1', 'Count G2']].values, index=df['Value'], columns=['G1', 'G2'])"
   ]
  },
  {
   "cell_type": "code",
   "execution_count": 5,
   "metadata": {},
   "outputs": [
    {
     "data": {
      "text/html": [
       "<div>\n",
       "<style scoped>\n",
       "    .dataframe tbody tr th:only-of-type {\n",
       "        vertical-align: middle;\n",
       "    }\n",
       "\n",
       "    .dataframe tbody tr th {\n",
       "        vertical-align: top;\n",
       "    }\n",
       "\n",
       "    .dataframe thead th {\n",
       "        text-align: right;\n",
       "    }\n",
       "</style>\n",
       "<table border=\"1\" class=\"dataframe\">\n",
       "  <thead>\n",
       "    <tr style=\"text-align: right;\">\n",
       "      <th></th>\n",
       "      <th>G1</th>\n",
       "      <th>G2</th>\n",
       "    </tr>\n",
       "    <tr>\n",
       "      <th>Value</th>\n",
       "      <th></th>\n",
       "      <th></th>\n",
       "    </tr>\n",
       "  </thead>\n",
       "  <tbody>\n",
       "    <tr>\n",
       "      <th>2</th>\n",
       "      <td>2</td>\n",
       "      <td>1</td>\n",
       "    </tr>\n",
       "    <tr>\n",
       "      <th>3</th>\n",
       "      <td>2</td>\n",
       "      <td>2</td>\n",
       "    </tr>\n",
       "    <tr>\n",
       "      <th>4</th>\n",
       "      <td>5</td>\n",
       "      <td>0</td>\n",
       "    </tr>\n",
       "    <tr>\n",
       "      <th>5</th>\n",
       "      <td>5</td>\n",
       "      <td>10</td>\n",
       "    </tr>\n",
       "    <tr>\n",
       "      <th>6</th>\n",
       "      <td>13</td>\n",
       "      <td>7</td>\n",
       "    </tr>\n",
       "  </tbody>\n",
       "</table>\n",
       "</div>"
      ],
      "text/plain": [
       "       G1  G2\n",
       "Value        \n",
       "2       2   1\n",
       "3       2   2\n",
       "4       5   0\n",
       "5       5  10\n",
       "6      13   7"
      ]
     },
     "execution_count": 5,
     "metadata": {},
     "output_type": "execute_result"
    }
   ],
   "source": [
    "df.head()"
   ]
  },
  {
   "cell_type": "markdown",
   "metadata": {},
   "source": [
    "# Roll outcomes for each game and sum of both"
   ]
  },
  {
   "cell_type": "code",
   "execution_count": 6,
   "metadata": {
    "collapsed": true
   },
   "outputs": [],
   "source": [
    "df['Both'] = df['G1'] + df['G2']"
   ]
  },
  {
   "cell_type": "code",
   "execution_count": 7,
   "metadata": {},
   "outputs": [
    {
     "data": {
      "text/html": [
       "<div>\n",
       "<style scoped>\n",
       "    .dataframe tbody tr th:only-of-type {\n",
       "        vertical-align: middle;\n",
       "    }\n",
       "\n",
       "    .dataframe tbody tr th {\n",
       "        vertical-align: top;\n",
       "    }\n",
       "\n",
       "    .dataframe thead th {\n",
       "        text-align: right;\n",
       "    }\n",
       "</style>\n",
       "<table border=\"1\" class=\"dataframe\">\n",
       "  <thead>\n",
       "    <tr style=\"text-align: right;\">\n",
       "      <th></th>\n",
       "      <th>G1</th>\n",
       "      <th>G2</th>\n",
       "      <th>Both</th>\n",
       "    </tr>\n",
       "    <tr>\n",
       "      <th>Value</th>\n",
       "      <th></th>\n",
       "      <th></th>\n",
       "      <th></th>\n",
       "    </tr>\n",
       "  </thead>\n",
       "  <tbody>\n",
       "    <tr>\n",
       "      <th>2</th>\n",
       "      <td>2</td>\n",
       "      <td>1</td>\n",
       "      <td>3</td>\n",
       "    </tr>\n",
       "    <tr>\n",
       "      <th>3</th>\n",
       "      <td>2</td>\n",
       "      <td>2</td>\n",
       "      <td>4</td>\n",
       "    </tr>\n",
       "    <tr>\n",
       "      <th>4</th>\n",
       "      <td>5</td>\n",
       "      <td>0</td>\n",
       "      <td>5</td>\n",
       "    </tr>\n",
       "    <tr>\n",
       "      <th>5</th>\n",
       "      <td>5</td>\n",
       "      <td>10</td>\n",
       "      <td>15</td>\n",
       "    </tr>\n",
       "    <tr>\n",
       "      <th>6</th>\n",
       "      <td>13</td>\n",
       "      <td>7</td>\n",
       "      <td>20</td>\n",
       "    </tr>\n",
       "    <tr>\n",
       "      <th>7</th>\n",
       "      <td>6</td>\n",
       "      <td>3</td>\n",
       "      <td>9</td>\n",
       "    </tr>\n",
       "    <tr>\n",
       "      <th>8</th>\n",
       "      <td>6</td>\n",
       "      <td>5</td>\n",
       "      <td>11</td>\n",
       "    </tr>\n",
       "    <tr>\n",
       "      <th>9</th>\n",
       "      <td>4</td>\n",
       "      <td>1</td>\n",
       "      <td>5</td>\n",
       "    </tr>\n",
       "    <tr>\n",
       "      <th>10</th>\n",
       "      <td>7</td>\n",
       "      <td>2</td>\n",
       "      <td>9</td>\n",
       "    </tr>\n",
       "    <tr>\n",
       "      <th>11</th>\n",
       "      <td>1</td>\n",
       "      <td>0</td>\n",
       "      <td>1</td>\n",
       "    </tr>\n",
       "    <tr>\n",
       "      <th>12</th>\n",
       "      <td>1</td>\n",
       "      <td>0</td>\n",
       "      <td>1</td>\n",
       "    </tr>\n",
       "  </tbody>\n",
       "</table>\n",
       "</div>"
      ],
      "text/plain": [
       "       G1  G2  Both\n",
       "Value              \n",
       "2       2   1     3\n",
       "3       2   2     4\n",
       "4       5   0     5\n",
       "5       5  10    15\n",
       "6      13   7    20\n",
       "7       6   3     9\n",
       "8       6   5    11\n",
       "9       4   1     5\n",
       "10      7   2     9\n",
       "11      1   0     1\n",
       "12      1   0     1"
      ]
     },
     "execution_count": 7,
     "metadata": {},
     "output_type": "execute_result"
    }
   ],
   "source": [
    "df"
   ]
  },
  {
   "cell_type": "markdown",
   "metadata": {},
   "source": [
    "# Find the observed totals"
   ]
  },
  {
   "cell_type": "code",
   "execution_count": 8,
   "metadata": {},
   "outputs": [
    {
     "name": "stdout",
     "output_type": "stream",
     "text": [
      "Total Rolls\n",
      "G1-------- 52\n",
      "G2-------- 31\n",
      "Both------ 83\n"
     ]
    }
   ],
   "source": [
    "outcomes_dict = {}\n",
    "\n",
    "for col in df.columns:\n",
    "    outcomes_dict[col] = df[col].sum()\n",
    "\n",
    "print('Total Rolls')\n",
    "\n",
    "for i, j in outcomes_dict.items():\n",
    "    print(f'{i:-<10} {j}')"
   ]
  },
  {
   "cell_type": "markdown",
   "metadata": {},
   "source": [
    "# Get expected probabilities for dice rolls"
   ]
  },
  {
   "cell_type": "code",
   "execution_count": 9,
   "metadata": {
    "collapsed": true
   },
   "outputs": [],
   "source": [
    "from collections import defaultdict\n",
    "\n",
    "expected = defaultdict(float)"
   ]
  },
  {
   "cell_type": "code",
   "execution_count": 10,
   "metadata": {},
   "outputs": [
    {
     "data": {
      "text/plain": [
       "[1, 2, 3, 4, 5, 6]"
      ]
     },
     "execution_count": 10,
     "metadata": {},
     "output_type": "execute_result"
    }
   ],
   "source": [
    "rolls = [i for i in range(1,7)]\n",
    "rolls"
   ]
  },
  {
   "cell_type": "code",
   "execution_count": 11,
   "metadata": {
    "collapsed": true
   },
   "outputs": [],
   "source": [
    "for i in range(1,13):\n",
    "    for j in rolls:\n",
    "        for k in rolls:\n",
    "            if j+k == i:\n",
    "                expected[i] += 1/36"
   ]
  },
  {
   "cell_type": "code",
   "execution_count": 12,
   "metadata": {},
   "outputs": [
    {
     "name": "stdout",
     "output_type": "stream",
     "text": [
      "Probability of the sum of two dice\n",
      "2---- 0.0278\n",
      "3---- 0.0556\n",
      "4---- 0.0833\n",
      "5---- 0.111\n",
      "6---- 0.139\n",
      "7---- 0.167\n",
      "8---- 0.139\n",
      "9---- 0.111\n",
      "10--- 0.0833\n",
      "11--- 0.0556\n",
      "12--- 0.0278\n"
     ]
    }
   ],
   "source": [
    "print('Probability of the sum of two dice')\n",
    "for i, j in expected.items():\n",
    "    print(f'{i:-<5} {j:.3}')"
   ]
  },
  {
   "cell_type": "markdown",
   "metadata": {},
   "source": [
    "**And we put the values in a `np.array`**"
   ]
  },
  {
   "cell_type": "code",
   "execution_count": 13,
   "metadata": {},
   "outputs": [
    {
     "name": "stdout",
     "output_type": "stream",
     "text": [
      "[ 0.02777778  0.05555556  0.08333333] ...\n"
     ]
    }
   ],
   "source": [
    "e = np.array(list(expected.values()))\n",
    "print(e[:3], '...')"
   ]
  },
  {
   "cell_type": "markdown",
   "metadata": {},
   "source": [
    "# Find expected outcomes based on total rolls"
   ]
  },
  {
   "cell_type": "code",
   "execution_count": 14,
   "metadata": {},
   "outputs": [
    {
     "name": "stdout",
     "output_type": "stream",
     "text": [
      "[ 1.44444444  2.88888889  4.33333333] ...\n",
      "\n",
      "[ 0.86111111  1.72222222  2.58333333] ...\n",
      "\n",
      "[ 2.30555556  4.61111111  6.91666667] ...\n",
      "\n"
     ]
    }
   ],
   "source": [
    "for col in df.columns:\n",
    "    # use outcomes_dict\n",
    "    ex = outcomes_dict[col]*e\n",
    "    df[f'e_{col}'] = ex\n",
    "    print(ex[:3], '...\\n')"
   ]
  },
  {
   "cell_type": "code",
   "execution_count": 15,
   "metadata": {},
   "outputs": [
    {
     "data": {
      "text/html": [
       "<div>\n",
       "<style scoped>\n",
       "    .dataframe tbody tr th:only-of-type {\n",
       "        vertical-align: middle;\n",
       "    }\n",
       "\n",
       "    .dataframe tbody tr th {\n",
       "        vertical-align: top;\n",
       "    }\n",
       "\n",
       "    .dataframe thead th {\n",
       "        text-align: right;\n",
       "    }\n",
       "</style>\n",
       "<table border=\"1\" class=\"dataframe\">\n",
       "  <thead>\n",
       "    <tr style=\"text-align: right;\">\n",
       "      <th></th>\n",
       "      <th>G1</th>\n",
       "      <th>G2</th>\n",
       "      <th>Both</th>\n",
       "      <th>e_G1</th>\n",
       "      <th>e_G2</th>\n",
       "      <th>e_Both</th>\n",
       "    </tr>\n",
       "    <tr>\n",
       "      <th>Value</th>\n",
       "      <th></th>\n",
       "      <th></th>\n",
       "      <th></th>\n",
       "      <th></th>\n",
       "      <th></th>\n",
       "      <th></th>\n",
       "    </tr>\n",
       "  </thead>\n",
       "  <tbody>\n",
       "    <tr>\n",
       "      <th>2</th>\n",
       "      <td>2</td>\n",
       "      <td>1</td>\n",
       "      <td>3</td>\n",
       "      <td>1.444444</td>\n",
       "      <td>0.861111</td>\n",
       "      <td>2.305556</td>\n",
       "    </tr>\n",
       "    <tr>\n",
       "      <th>3</th>\n",
       "      <td>2</td>\n",
       "      <td>2</td>\n",
       "      <td>4</td>\n",
       "      <td>2.888889</td>\n",
       "      <td>1.722222</td>\n",
       "      <td>4.611111</td>\n",
       "    </tr>\n",
       "    <tr>\n",
       "      <th>4</th>\n",
       "      <td>5</td>\n",
       "      <td>0</td>\n",
       "      <td>5</td>\n",
       "      <td>4.333333</td>\n",
       "      <td>2.583333</td>\n",
       "      <td>6.916667</td>\n",
       "    </tr>\n",
       "    <tr>\n",
       "      <th>5</th>\n",
       "      <td>5</td>\n",
       "      <td>10</td>\n",
       "      <td>15</td>\n",
       "      <td>5.777778</td>\n",
       "      <td>3.444444</td>\n",
       "      <td>9.222222</td>\n",
       "    </tr>\n",
       "    <tr>\n",
       "      <th>6</th>\n",
       "      <td>13</td>\n",
       "      <td>7</td>\n",
       "      <td>20</td>\n",
       "      <td>7.222222</td>\n",
       "      <td>4.305556</td>\n",
       "      <td>11.527778</td>\n",
       "    </tr>\n",
       "    <tr>\n",
       "      <th>7</th>\n",
       "      <td>6</td>\n",
       "      <td>3</td>\n",
       "      <td>9</td>\n",
       "      <td>8.666667</td>\n",
       "      <td>5.166667</td>\n",
       "      <td>13.833333</td>\n",
       "    </tr>\n",
       "    <tr>\n",
       "      <th>8</th>\n",
       "      <td>6</td>\n",
       "      <td>5</td>\n",
       "      <td>11</td>\n",
       "      <td>7.222222</td>\n",
       "      <td>4.305556</td>\n",
       "      <td>11.527778</td>\n",
       "    </tr>\n",
       "    <tr>\n",
       "      <th>9</th>\n",
       "      <td>4</td>\n",
       "      <td>1</td>\n",
       "      <td>5</td>\n",
       "      <td>5.777778</td>\n",
       "      <td>3.444444</td>\n",
       "      <td>9.222222</td>\n",
       "    </tr>\n",
       "    <tr>\n",
       "      <th>10</th>\n",
       "      <td>7</td>\n",
       "      <td>2</td>\n",
       "      <td>9</td>\n",
       "      <td>4.333333</td>\n",
       "      <td>2.583333</td>\n",
       "      <td>6.916667</td>\n",
       "    </tr>\n",
       "    <tr>\n",
       "      <th>11</th>\n",
       "      <td>1</td>\n",
       "      <td>0</td>\n",
       "      <td>1</td>\n",
       "      <td>2.888889</td>\n",
       "      <td>1.722222</td>\n",
       "      <td>4.611111</td>\n",
       "    </tr>\n",
       "    <tr>\n",
       "      <th>12</th>\n",
       "      <td>1</td>\n",
       "      <td>0</td>\n",
       "      <td>1</td>\n",
       "      <td>1.444444</td>\n",
       "      <td>0.861111</td>\n",
       "      <td>2.305556</td>\n",
       "    </tr>\n",
       "  </tbody>\n",
       "</table>\n",
       "</div>"
      ],
      "text/plain": [
       "       G1  G2  Both      e_G1      e_G2     e_Both\n",
       "Value                                             \n",
       "2       2   1     3  1.444444  0.861111   2.305556\n",
       "3       2   2     4  2.888889  1.722222   4.611111\n",
       "4       5   0     5  4.333333  2.583333   6.916667\n",
       "5       5  10    15  5.777778  3.444444   9.222222\n",
       "6      13   7    20  7.222222  4.305556  11.527778\n",
       "7       6   3     9  8.666667  5.166667  13.833333\n",
       "8       6   5    11  7.222222  4.305556  11.527778\n",
       "9       4   1     5  5.777778  3.444444   9.222222\n",
       "10      7   2     9  4.333333  2.583333   6.916667\n",
       "11      1   0     1  2.888889  1.722222   4.611111\n",
       "12      1   0     1  1.444444  0.861111   2.305556"
      ]
     },
     "execution_count": 15,
     "metadata": {},
     "output_type": "execute_result"
    }
   ],
   "source": [
    "df"
   ]
  },
  {
   "cell_type": "markdown",
   "metadata": {},
   "source": [
    "## Chi Square test\n",
    "\n",
    "    chisq, p = scipy.stats.chisquare(f_obs, f_exp=None, ddof=0, axis=0)\n",
    "\n",
    "[Citation](https://docs.scipy.org/doc/scipy/reference/generated/scipy.stats.chisquare.html)"
   ]
  },
  {
   "cell_type": "code",
   "execution_count": 16,
   "metadata": {},
   "outputs": [
    {
     "data": {
      "text/plain": [
       "{'Both': ['Both', 'e_Both'], 'G1': ['G1', 'e_G1'], 'G2': ['G2', 'e_G2']}"
      ]
     },
     "execution_count": 16,
     "metadata": {},
     "output_type": "execute_result"
    }
   ],
   "source": [
    "d = {\n",
    "    'G1': [i for i in df.columns if 'G1' in i],\n",
    "    'G2': [i for i in df.columns if 'G2' in i],\n",
    "    'Both': [i for i in df.columns if 'Both' in i]\n",
    "}\n",
    "d"
   ]
  },
  {
   "cell_type": "code",
   "execution_count": 17,
   "metadata": {},
   "outputs": [
    {
     "name": "stdout",
     "output_type": "stream",
     "text": [
      "Group:              G1\n",
      "Chisq:              9.904\n",
      "P:                  0.3583\n",
      "Observed/Expected pairs:\n",
      "2   | 2  / 1.444\n",
      "3   | 2  / 2.889\n",
      "4   | 5  / 4.333\n",
      "5   | 5  / 5.778\n",
      "6   | 13 / 7.222\n",
      "7   | 6  / 8.667\n",
      "8   | 6  / 7.222\n",
      "9   | 4  / 5.778\n",
      "10  | 7  / 4.333\n",
      "11  | 1  / 2.889\n",
      "12  | 1  / 1.444\n",
      "------------------------------\n",
      "Group:              G2\n",
      "Chisq:              22.28\n",
      "P:                  0.008022\n",
      "Observed/Expected pairs:\n",
      "2   | 1  / 0.8611\n",
      "3   | 2  / 1.722\n",
      "4   | 0  / 2.583\n",
      "5   | 10 / 3.444\n",
      "6   | 7  / 4.306\n",
      "7   | 3  / 5.167\n",
      "8   | 5  / 4.306\n",
      "9   | 1  / 3.444\n",
      "10  | 2  / 2.583\n",
      "11  | 0  / 1.722\n",
      "12  | 0  / 0.8611\n",
      "------------------------------\n",
      "Group:              Both\n",
      "Chisq:              18.51\n",
      "P:                  0.02971\n",
      "Observed/Expected pairs:\n",
      "2   | 3  / 2.306\n",
      "3   | 4  / 4.611\n",
      "4   | 5  / 6.917\n",
      "5   | 15 / 9.222\n",
      "6   | 20 / 11.53\n",
      "7   | 9  / 13.83\n",
      "8   | 11 / 11.53\n",
      "9   | 5  / 9.222\n",
      "10  | 9  / 6.917\n",
      "11  | 1  / 4.611\n",
      "12  | 1  / 2.306\n",
      "------------------------------\n"
     ]
    }
   ],
   "source": [
    "for i, j in d.items():\n",
    "    obs = df[j[0]].values\n",
    "    exp = df[j[1]].values\n",
    "    chi, p = chisquare(obs, exp, ddof=1)\n",
    "    print(f'{\"Group:\": <20}{i}')\n",
    "    print(f'{\"Chisq:\": <20}{chi:.4}')\n",
    "    print(f'{\"P:\": <20}{p:.4}')\n",
    "    print('Observed/Expected pairs:')\n",
    "    pairs = [(i,j,k) for i, j, k in zip(df.index, obs, exp)]\n",
    "    for i, j, k in pairs:\n",
    "        print(f'{i: <3} | {j: <2} / {k:.4}')\n",
    "    print(f'{\"\":->30}')"
   ]
  },
  {
   "cell_type": "markdown",
   "metadata": {},
   "source": [
    "# Conclusion\n",
    "\n",
    "I don't like the look of this. Game one was ok. But Game two was absolutely a fluke! (If we assume the dice are fair.) But let's say there were too few rolls in game two. When we combine the games we still get something I don't quite like.\n",
    "\n",
    "If we assume the dice are fair, we have a 2% chance that the observed distribution is at least this far from the expected distribution. Ok 2% is not so bad... but I lost game two because all of my opponents were on hexes with 5s on them and they all did better than me so... I conclude that the game was rigged in their favor."
   ]
  }
 ],
 "metadata": {
  "kernelspec": {
   "display_name": "Python 3",
   "language": "python",
   "name": "python3"
  },
  "language_info": {
   "codemirror_mode": {
    "name": "ipython",
    "version": 3
   },
   "file_extension": ".py",
   "mimetype": "text/x-python",
   "name": "python",
   "nbconvert_exporter": "python",
   "pygments_lexer": "ipython3",
   "version": "3.6.3"
  }
 },
 "nbformat": 4,
 "nbformat_minor": 2
}
