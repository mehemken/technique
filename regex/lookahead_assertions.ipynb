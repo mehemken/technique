{
 "cells": [
  {
   "cell_type": "code",
   "execution_count": 1,
   "metadata": {
    "collapsed": true
   },
   "outputs": [],
   "source": [
    "import re"
   ]
  },
  {
   "cell_type": "markdown",
   "metadata": {},
   "source": [
    "# Regular Expressions"
   ]
  },
  {
   "cell_type": "code",
   "execution_count": 2,
   "metadata": {},
   "outputs": [
    {
     "name": "stdout",
     "output_type": "stream",
     "text": [
      "p\n",
      "('qa011', (0, 5))\n",
      "('QA010', (0, 5))\n",
      "('qa910', (0, 5))\n",
      "q\n",
      "('qa011', (0, 5))\n",
      "('QA010', (0, 5))\n",
      "('qa910', (0, 5))\n"
     ]
    }
   ],
   "source": [
    "msg = ['qa011_duplicate_individuals.sql',\n",
    "        'QA010_middle_initial_in_first_name.sql',\n",
    "        'qa910_something_utterly_useless.sql', 'qa9876_malformed.sql']\n",
    "\n",
    "p = re.compile(r'qa[0-9]{3}(?!\\d)', re.I)\n",
    "q = re.compile(r'qa[0-9]{3}(?=\\D)', re.I)\n",
    "\n",
    "print('p')\n",
    "for s in msg:\n",
    "    res = p.search(s)\n",
    "    if res:\n",
    "        x = res.group(), res.span()\n",
    "        print(x)\n",
    "\n",
    "print('q')\n",
    "for s in msg:\n",
    "    res = q.search(s)\n",
    "    if res:\n",
    "        x = res.group(), res.span()\n",
    "        print(x)\n"
   ]
  },
  {
   "cell_type": "markdown",
   "metadata": {},
   "source": [
    "Of interest in the expression above is the [lookahead assertion](https://docs.python.org/3/howto/regex.html#lookahead-assertions).\n",
    "\n",
    "    (?!...) or (?=...)\n",
    "\n",
    "In this example `p` and `q` are equivalent."
   ]
  }
 ],
 "metadata": {
  "kernelspec": {
   "display_name": "Python 3",
   "language": "python",
   "name": "python3"
  },
  "language_info": {
   "codemirror_mode": {
    "name": "ipython",
    "version": 3
   },
   "file_extension": ".py",
   "mimetype": "text/x-python",
   "name": "python",
   "nbconvert_exporter": "python",
   "pygments_lexer": "ipython3",
   "version": "3.6.3"
  }
 },
 "nbformat": 4,
 "nbformat_minor": 2
}
