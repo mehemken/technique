{
 "cells": [
  {
   "cell_type": "code",
   "execution_count": 1,
   "metadata": {
    "collapsed": true
   },
   "outputs": [],
   "source": [
    "import re"
   ]
  },
  {
   "cell_type": "markdown",
   "metadata": {},
   "source": [
    "# Substitution\n",
    "\n",
    "The `sub` method of the compiled regex will accomplish this."
   ]
  },
  {
   "cell_type": "code",
   "execution_count": 2,
   "metadata": {},
   "outputs": [
    {
     "name": "stdout",
     "output_type": "stream",
     "text": [
      "p\n",
      "qa011_DISCONTINUED_duplicate_individuals.sql\n",
      "QA010_DISCONTINUED_middle_initial_in_first_name.sql\n",
      "qa910_DISCONTINUED_something_utterly_useless.sql\n",
      "qa9876_malformed.sql\n",
      "QA472_DISCONTINUED_probably_not_needed.sql\n"
     ]
    }
   ],
   "source": [
    "msg = ['qa011_duplicate_individuals.sql',\n",
    "    'QA010_middle_initial_in_first_name.sql',\n",
    "    'qa910_something_utterly_useless.sql',\n",
    "    'qa9876_malformed.sql',\n",
    "    'QA472_probably_not_needed.sql']\n",
    "\n",
    "p = re.compile(r'(qa[0-9]{3}(?=\\D))(\\w*).sql', re.I)\n",
    "print('p')\n",
    "for i in msg:\n",
    "    s = p.sub(r'\\1_DISCONTINUED\\2.sql', i)\n",
    "    print(s)"
   ]
  }
 ],
 "metadata": {
  "kernelspec": {
   "display_name": "Python 3",
   "language": "python",
   "name": "python3"
  },
  "language_info": {
   "codemirror_mode": {
    "name": "ipython",
    "version": 3
   },
   "file_extension": ".py",
   "mimetype": "text/x-python",
   "name": "python",
   "nbconvert_exporter": "python",
   "pygments_lexer": "ipython3",
   "version": "3.6.3"
  }
 },
 "nbformat": 4,
 "nbformat_minor": 2
}
