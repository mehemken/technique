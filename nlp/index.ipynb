{
 "cells": [
  {
   "cell_type": "markdown",
   "metadata": {},
   "source": [
    "# The NLP Archive\n",
    "\n",
    "Back to [Table of Contents](../table_of_contents.ipynb)\n",
    "\n",
    "1. [`spaCy` quickstart](quickstart.ipynb)\n",
    "1. [Lightning Tour](lightning_tour.ipynb)\n",
    "1. [Example](example.ipynb)"
   ]
  }
 ],
 "metadata": {
  "kernelspec": {
   "display_name": "Python 3",
   "language": "python",
   "name": "python3"
  },
  "language_info": {
   "codemirror_mode": {
    "name": "ipython",
    "version": 3
   },
   "file_extension": ".py",
   "mimetype": "text/x-python",
   "name": "python",
   "nbconvert_exporter": "python",
   "pygments_lexer": "ipython3",
   "version": "3.6.3"
  }
 },
 "nbformat": 4,
 "nbformat_minor": 2
}
