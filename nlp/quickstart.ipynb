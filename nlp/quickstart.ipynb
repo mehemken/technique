{
 "cells": [
  {
   "cell_type": "code",
   "execution_count": 1,
   "metadata": {
    "collapsed": true
   },
   "outputs": [],
   "source": [
    "import pandas as pd\n",
    "import numpy as np"
   ]
  },
  {
   "cell_type": "markdown",
   "metadata": {},
   "source": [
    "# The `spaCy` Quickstart\n",
    "\n",
    "[back to index](index.ipynb)\n",
    "\n",
    "This follows the guide provided by the [spaCy project](https://spacy.io/usage/#section-quickstart). And it looks like the good stuff starts at the [spaCy 101](https://spacy.io/usage/spacy-101) section."
   ]
  },
  {
   "cell_type": "markdown",
   "metadata": {},
   "source": [
    "## First steps\n",
    "\n",
    "To get to this point I've done a `conda install` and a `python -m spacy download en`. No hicups so far on Lubuntu 16.04."
   ]
  },
  {
   "cell_type": "code",
   "execution_count": 2,
   "metadata": {
    "collapsed": true
   },
   "outputs": [],
   "source": [
    "import spacy\n",
    "%time nlp = spacy.load('en')"
   ]
  },
  {
   "cell_type": "code",
   "execution_count": 3,
   "metadata": {
    "collapsed": true
   },
   "outputs": [],
   "source": [
    "doc = nlp(u'Apple is looking at buying U.K. startup for $1 billion')"
   ]
  },
  {
   "cell_type": "markdown",
   "metadata": {},
   "source": [
    "Wow. First try, no hicups."
   ]
  },
  {
   "cell_type": "code",
   "execution_count": 4,
   "metadata": {},
   "outputs": [
    {
     "name": "stdout",
     "output_type": "stream",
     "text": [
      "Apple\n",
      "is\n",
      "looking\n",
      "at\n",
      "buying\n",
      "U.K.\n",
      "startup\n",
      "for\n",
      "$\n",
      "1\n",
      "billion\n"
     ]
    }
   ],
   "source": [
    "for token in doc:\n",
    "    print(token.text)"
   ]
  },
  {
   "cell_type": "markdown",
   "metadata": {},
   "source": [
    "## Visualizers?"
   ]
  },
  {
   "cell_type": "code",
   "execution_count": 5,
   "metadata": {
    "collapsed": true
   },
   "outputs": [],
   "source": [
    "from spacy import displacy"
   ]
  },
  {
   "cell_type": "code",
   "execution_count": 8,
   "metadata": {},
   "outputs": [
    {
     "name": "stdout",
     "output_type": "stream",
     "text": [
      "\n",
      "\u001b[93m    Serving on port 5000...\u001b[0m\n",
      "    Using the 'dep' visualizer\n",
      "\n",
      "\n",
      "    Shutting down server on port 5000.\n",
      "\n"
     ]
    }
   ],
   "source": [
    "displacy.serve(doc, style='dep')"
   ]
  },
  {
   "cell_type": "markdown",
   "metadata": {},
   "source": [
    "Wow. Nice. No really... It just serves up the sentence so you can just look at it in your browser. It's on port 5000 so I'm thinking it's a simple Flask app?"
   ]
  },
  {
   "cell_type": "code",
   "execution_count": 10,
   "metadata": {},
   "outputs": [
    {
     "data": {
      "text/html": [
       "<div class=\"entities\" style=\"line-height: 2.5\">\n",
       "<mark class=\"entity\" style=\"background: #7aecec; padding: 0.45em 0.6em; margin: 0 0.25em; line-height: 1; border-radius: 0.35em; box-decoration-break: clone; -webkit-box-decoration-break: clone\">\n",
       "    Apple\n",
       "    <span style=\"font-size: 0.8em; font-weight: bold; line-height: 1; border-radius: 0.35em; text-transform: uppercase; vertical-align: middle; margin-left: 0.5rem\">ORG</span>\n",
       "</mark>\n",
       " is looking at buying \n",
       "<mark class=\"entity\" style=\"background: #feca74; padding: 0.45em 0.6em; margin: 0 0.25em; line-height: 1; border-radius: 0.35em; box-decoration-break: clone; -webkit-box-decoration-break: clone\">\n",
       "    U.K.\n",
       "    <span style=\"font-size: 0.8em; font-weight: bold; line-height: 1; border-radius: 0.35em; text-transform: uppercase; vertical-align: middle; margin-left: 0.5rem\">GPE</span>\n",
       "</mark>\n",
       " startup for \n",
       "<mark class=\"entity\" style=\"background: #e4e7d2; padding: 0.45em 0.6em; margin: 0 0.25em; line-height: 1; border-radius: 0.35em; box-decoration-break: clone; -webkit-box-decoration-break: clone\">\n",
       "    $1 billion\n",
       "    <span style=\"font-size: 0.8em; font-weight: bold; line-height: 1; border-radius: 0.35em; text-transform: uppercase; vertical-align: middle; margin-left: 0.5rem\">MONEY</span>\n",
       "</mark>\n",
       "</div>"
      ],
      "text/plain": [
       "<IPython.core.display.HTML object>"
      ]
     },
     "metadata": {},
     "output_type": "display_data"
    }
   ],
   "source": [
    "displacy.render(doc, style='ent', jupyter=True)"
   ]
  },
  {
   "cell_type": "markdown",
   "metadata": {},
   "source": [
    "AND IT HAS NATIVE SUPPORT FOR JUPYTER."
   ]
  },
  {
   "cell_type": "markdown",
   "metadata": {},
   "source": [
    "## Entities"
   ]
  },
  {
   "cell_type": "code",
   "execution_count": 11,
   "metadata": {},
   "outputs": [
    {
     "name": "stdout",
     "output_type": "stream",
     "text": [
      "Apple\n",
      "U.K.\n",
      "$1 billion\n"
     ]
    }
   ],
   "source": [
    "for ent in doc.ents:\n",
    "    print(ent.text)"
   ]
  },
  {
   "cell_type": "markdown",
   "metadata": {},
   "source": [
    "## Word Vectors"
   ]
  },
  {
   "cell_type": "code",
   "execution_count": 29,
   "metadata": {
    "collapsed": true
   },
   "outputs": [],
   "source": [
    "tokens = nlp(u'dog cat banana')"
   ]
  },
  {
   "cell_type": "code",
   "execution_count": 30,
   "metadata": {},
   "outputs": [
    {
     "name": "stdout",
     "output_type": "stream",
     "text": [
      "dog 1.0 dog\n",
      "dog 0.53907 cat\n",
      "dog 0.28761 banana\n",
      "cat 0.53907 dog\n",
      "cat 1.0 cat\n",
      "cat 0.487522 banana\n",
      "banana 0.28761 dog\n",
      "banana 0.487522 cat\n",
      "banana 1.0 banana\n"
     ]
    }
   ],
   "source": [
    "for i in tokens:\n",
    "    for j in tokens:\n",
    "        print(i, i.similarity(j), j)\n",
    "    print()"
   ]
  },
  {
   "cell_type": "markdown",
   "metadata": {},
   "source": [
    "Not sure what that means. And my numbers are different than the ones in the tutorial. And it turns out that the models in\n",
    "\n",
    "    $ python -m spacy download en\n",
    "    \n",
    "come in small by default. Thus they don't offer as good a performance. You can get bigger and better models from\n",
    "\n",
    "    $ python -m spacy download en_core_web_lg\n",
    "\n",
    ". And... I'm downloading them now. 30% done and it's already at 240MB. It weighs in at 852MB. That's pretty big."
   ]
  },
  {
   "cell_type": "code",
   "execution_count": 31,
   "metadata": {
    "collapsed": true
   },
   "outputs": [],
   "source": [
    "%time nlp = spacy.load('en_core_web_lg')"
   ]
  },
  {
   "cell_type": "code",
   "execution_count": 32,
   "metadata": {
    "collapsed": true
   },
   "outputs": [],
   "source": [
    "tokens = nlp(u'dog cat banana')"
   ]
  },
  {
   "cell_type": "code",
   "execution_count": 34,
   "metadata": {},
   "outputs": [
    {
     "name": "stdout",
     "output_type": "stream",
     "text": [
      "dog 1.0 dog\n",
      "dog 0.801686 cat\n",
      "dog 0.243276 banana\n",
      "\n",
      "cat 0.801686 dog\n",
      "cat 1.0 cat\n",
      "cat 0.281544 banana\n",
      "\n",
      "banana 0.243276 dog\n",
      "banana 0.281544 cat\n",
      "banana 1.0 banana\n",
      "\n"
     ]
    }
   ],
   "source": [
    "for i in tokens:\n",
    "    for j in tokens:\n",
    "        print(i, i.similarity(j), j)\n",
    "    print()"
   ]
  },
  {
   "cell_type": "markdown",
   "metadata": {},
   "source": [
    "And those numbers now do match up with the ones on the tutorial page."
   ]
  },
  {
   "cell_type": "code",
   "execution_count": 35,
   "metadata": {},
   "outputs": [
    {
     "data": {
      "text/plain": [
       "array([  2.02280000e-01,  -7.66180009e-02,   3.70319992e-01,\n",
       "         3.28450017e-02,  -4.19569999e-01,   7.20689967e-02,\n",
       "        -3.74760002e-01,   5.74599989e-02,  -1.24009997e-02,\n",
       "         5.29489994e-01,  -5.23800015e-01,  -1.97710007e-01,\n",
       "        -3.41470003e-01,   5.33169985e-01,  -2.53309999e-02,\n",
       "         1.73800007e-01,   1.67720005e-01,   8.39839995e-01,\n",
       "         5.51070012e-02,   1.05470002e-01,   3.78719985e-01,\n",
       "         2.42750004e-01,   1.47449998e-02,   5.59509993e-01,\n",
       "         1.25210002e-01,  -6.75960004e-01,   3.58420014e-01,\n",
       "        -4.00279984e-02,   9.59490016e-02,  -5.06900012e-01,\n",
       "        -8.53179991e-02,   1.79800004e-01,   3.38669986e-01,\n",
       "         1.32300004e-01,   3.10209990e-01,   2.18779996e-01,\n",
       "         1.68530002e-01,   1.98740005e-01,  -5.73849976e-01,\n",
       "        -1.06490001e-01,   2.66689986e-01,   1.28380001e-01,\n",
       "        -1.28030002e-01,  -1.32839993e-01,   1.26570001e-01,\n",
       "         8.67229998e-01,   9.67210010e-02,   4.83060002e-01,\n",
       "         2.12709993e-01,  -5.49900010e-02,  -8.24249983e-02,\n",
       "         2.24079996e-01,   2.39749998e-01,  -6.22599982e-02,\n",
       "         6.21940017e-01,  -5.98999977e-01,   4.32009995e-01,\n",
       "         2.81430006e-01,   3.38420011e-02,  -4.88150001e-01,\n",
       "        -2.13589996e-01,   2.74010003e-01,   2.40950003e-01,\n",
       "         4.59500015e-01,  -1.86049998e-01,  -1.04970002e+00,\n",
       "        -9.73049998e-02,  -1.89080000e-01,  -7.09290028e-01,\n",
       "         4.01950002e-01,  -1.87680006e-01,   5.16870022e-01,\n",
       "         1.25200003e-01,   8.41499984e-01,   1.20970003e-01,\n",
       "         8.82389992e-02,  -2.91959997e-02,   1.21510006e-03,\n",
       "         5.68250008e-02,  -2.74210006e-01,   2.55640000e-01,\n",
       "         6.97930008e-02,  -2.22580001e-01,  -3.60060006e-01,\n",
       "        -2.24020004e-01,  -5.36990017e-02,   1.20220006e+00,\n",
       "         5.45350015e-01,  -5.79980016e-01,   1.09049998e-01,\n",
       "         4.21669990e-01,   2.06619993e-01,   1.29360005e-01,\n",
       "        -4.14570011e-02,  -6.67770028e-01,   4.04670000e-01,\n",
       "        -1.52179999e-02,  -2.76400000e-01,  -1.56110004e-01,\n",
       "        -7.91980028e-02,   4.00369987e-02,  -1.29439995e-01,\n",
       "        -2.40900001e-04,  -2.67850012e-01,  -3.81150007e-01,\n",
       "        -9.72450018e-01,   3.17259997e-01,  -4.39509988e-01,\n",
       "         4.19340014e-01,   1.83530003e-01,  -1.52600005e-01,\n",
       "        -1.08080000e-01,  -1.03579998e+00,   7.62170032e-02,\n",
       "         1.65189996e-01,   2.65259994e-04,   1.66160002e-01,\n",
       "        -1.52810007e-01,   1.81229994e-01,   7.02740014e-01,\n",
       "         5.79559989e-03,   5.16639985e-02,  -5.97449988e-02,\n",
       "        -2.75510013e-01,  -3.90489995e-01,   6.11319989e-02,\n",
       "         5.54300010e-01,  -8.79969969e-02,  -4.16810006e-01,\n",
       "         3.28260005e-01,  -5.25489986e-01,  -4.42880005e-01,\n",
       "         8.21829960e-03,   2.44859993e-01,  -2.29819998e-01,\n",
       "        -3.49810004e-01,   2.68940002e-01,   3.91660005e-01,\n",
       "        -4.19039994e-01,   1.61909997e-01,  -2.62630010e+00,\n",
       "         6.41340017e-01,   3.97430003e-01,  -1.28680006e-01,\n",
       "        -3.19460005e-01,  -2.56330013e-01,  -1.22199997e-01,\n",
       "         3.22750002e-01,  -7.99330026e-02,  -1.53479993e-01,\n",
       "         3.15050006e-01,   3.05909991e-01,   2.60120004e-01,\n",
       "         1.85530007e-01,  -2.40429997e-01,   4.28860001e-02,\n",
       "         4.06219989e-01,  -2.42559999e-01,   6.38700008e-01,\n",
       "         6.99829996e-01,  -1.40430003e-01,   2.52090007e-01,\n",
       "         4.89840001e-01,  -6.10670000e-02,  -3.67659986e-01,\n",
       "        -5.50890028e-01,  -3.82649988e-01,  -2.08430007e-01,\n",
       "         2.28320003e-01,   5.12179971e-01,   2.78679997e-01,\n",
       "         4.76520002e-01,   4.79510017e-02,  -3.40079993e-01,\n",
       "        -3.28729987e-01,  -4.19669986e-01,  -7.54989982e-02,\n",
       "        -3.89539987e-01,  -2.96219997e-02,  -3.40700001e-01,\n",
       "         2.21699998e-01,  -6.28560036e-02,  -5.19029975e-01,\n",
       "        -3.77739996e-01,  -4.34770016e-03,  -5.83010018e-01,\n",
       "        -8.75459984e-02,  -2.39289999e-01,  -2.47109994e-01,\n",
       "        -2.58870006e-01,  -2.98940003e-01,   1.37150005e-01,\n",
       "         2.98919994e-02,   3.65439989e-02,  -4.96650010e-01,\n",
       "        -1.81600004e-01,   5.29389977e-01,   2.19919994e-01,\n",
       "        -4.45140004e-01,   3.77979994e-01,  -5.70620000e-01,\n",
       "        -4.69460003e-02,   8.18059966e-02,   1.92789994e-02,\n",
       "         3.32459986e-01,  -1.46200001e-01,   1.71560004e-01,\n",
       "         3.99809986e-01,   3.62170011e-01,   1.28160000e-01,\n",
       "         3.16439986e-01,   3.75690013e-01,  -7.46899992e-02,\n",
       "        -4.84800003e-02,  -3.14009994e-01,  -1.92860007e-01,\n",
       "        -3.12940001e-01,  -1.75529998e-02,  -1.75139993e-01,\n",
       "        -2.75870003e-02,  -1.00000000e+00,   1.83870003e-01,\n",
       "         8.14339995e-01,  -1.89129993e-01,   5.09989977e-01,\n",
       "        -9.19600017e-03,  -1.92950002e-03,   2.81890005e-01,\n",
       "         2.72470005e-02,   4.34089988e-01,  -5.49669981e-01,\n",
       "        -9.74259973e-02,  -2.45399997e-01,  -1.72030002e-01,\n",
       "        -8.86500031e-02,  -3.02980006e-01,  -1.35910004e-01,\n",
       "        -2.77649999e-01,   3.12860007e-03,   2.05559999e-01,\n",
       "        -1.57720000e-01,  -5.23079991e-01,  -6.47010028e-01,\n",
       "        -3.70139986e-01,   6.93930015e-02,   1.14009999e-01,\n",
       "         2.75940001e-01,  -1.38750002e-01,  -2.72680014e-01,\n",
       "         6.68910027e-01,  -5.64539991e-02,   2.40170002e-01,\n",
       "        -2.67300010e-01,   2.98599988e-01,   1.00830004e-01,\n",
       "         5.55920005e-01,   3.28489989e-01,   7.68579990e-02,\n",
       "         1.55279994e-01,   2.56359994e-01,  -1.07720003e-01,\n",
       "        -1.23590000e-01,   1.18270002e-01,  -9.90289971e-02,\n",
       "        -3.43279988e-01,   1.15019999e-01,  -3.78080010e-01,\n",
       "        -3.90120000e-02,  -3.45930010e-01,  -1.94040000e-01,\n",
       "        -3.35799992e-01,  -6.23340011e-02,   2.89189994e-01,\n",
       "         2.80319989e-01,  -5.37410021e-01,   6.27939999e-01,\n",
       "         5.69549985e-02,   6.21469975e-01,  -2.52819985e-01,\n",
       "         4.16700006e-01,  -1.01079997e-02,  -2.54339993e-01,\n",
       "         4.00029987e-01,   4.24320012e-01,   2.26720005e-01,\n",
       "         1.75530002e-01,   2.30489999e-01,   2.83230007e-01,\n",
       "         1.38820007e-01,   3.12180002e-03,   1.70570001e-01,\n",
       "         3.66849989e-01,   2.52470002e-03,  -6.40089989e-01,\n",
       "        -2.97650009e-01,   7.89430022e-01,   3.31680000e-01,\n",
       "        -1.19659996e+00,  -4.71559986e-02,   5.31750023e-01], dtype=float32)"
      ]
     },
     "execution_count": 35,
     "metadata": {},
     "output_type": "execute_result"
    }
   ],
   "source": [
    "banana = nlp(u'banana')\n",
    "banana.vector"
   ]
  }
 ],
 "metadata": {
  "kernelspec": {
   "display_name": "Python 3",
   "language": "python",
   "name": "python3"
  },
  "language_info": {
   "codemirror_mode": {
    "name": "ipython",
    "version": 3
   },
   "file_extension": ".py",
   "mimetype": "text/x-python",
   "name": "python",
   "nbconvert_exporter": "python",
   "pygments_lexer": "ipython3",
   "version": "3.6.3"
  }
 },
 "nbformat": 4,
 "nbformat_minor": 2
}
