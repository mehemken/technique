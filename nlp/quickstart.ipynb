{
 "cells": [
  {
   "cell_type": "code",
   "execution_count": 1,
   "metadata": {
    "collapsed": true
   },
   "outputs": [],
   "source": [
    "import pandas as pd\n",
    "import numpy as np"
   ]
  },
  {
   "cell_type": "markdown",
   "metadata": {},
   "source": [
    "# The `spaCy` Quickstart\n",
    "\n",
    "[back to index](index.ipynb)\n",
    "\n",
    "This follows the guide provided by the [spaCy project](https://spacy.io/usage/#section-quickstart). And it looks like the good stuff starts at the [spaCy 101](https://spacy.io/usage/spacy-101) section."
   ]
  },
  {
   "cell_type": "markdown",
   "metadata": {},
   "source": [
    "## First steps\n",
    "\n",
    "To get to this point I've done a `conda install` and a `python -m spacy download en`. No hicups so far on Lubuntu 16.04."
   ]
  },
  {
   "cell_type": "code",
   "execution_count": 2,
   "metadata": {},
   "outputs": [
    {
     "name": "stdout",
     "output_type": "stream",
     "text": [
      "Wall time: 2.25 s\n"
     ]
    }
   ],
   "source": [
    "import spacy\n",
    "%time nlp = spacy.load('en')"
   ]
  },
  {
   "cell_type": "code",
   "execution_count": 3,
   "metadata": {
    "collapsed": true
   },
   "outputs": [],
   "source": [
    "doc = nlp(u'Apple is looking at buying U.K. startup for $1 billion')"
   ]
  },
  {
   "cell_type": "markdown",
   "metadata": {},
   "source": [
    "### Lubuntu 16.04\n",
    "\n",
    "Wow. First try, no hicups.\n",
    "\n",
    "### Windows...\n",
    "\n",
    "Surprise, surprise, windows had a couple hicups.\n",
    "\n",
    "1. You need Visual Studio Tools C++ 14\n",
    "1. You need to run Git Bash as Administrator\n",
    "\n",
    "The error on the C++ 14 issue spits out the URL you need for downloading the tools. Luckily they are available for free and installation is via a wizard that takes care of everything. The second issue is more interesting. You have to run it as Administrator and the current directory must be your local drive. You get this error otherwise\n",
    "\n",
    "    PermissionError: [WinError 5] Access is denied\n",
    "    \n",
    "But finally I was able to get it working."
   ]
  },
  {
   "cell_type": "code",
   "execution_count": 4,
   "metadata": {},
   "outputs": [
    {
     "name": "stdout",
     "output_type": "stream",
     "text": [
      "Apple\n",
      "is\n",
      "looking\n",
      "at\n",
      "buying\n",
      "U.K.\n",
      "startup\n",
      "for\n",
      "$\n",
      "1\n",
      "billion\n"
     ]
    }
   ],
   "source": [
    "for token in doc:\n",
    "    print(token.text)"
   ]
  },
  {
   "cell_type": "markdown",
   "metadata": {},
   "source": [
    "## Visualizers?"
   ]
  },
  {
   "cell_type": "code",
   "execution_count": 5,
   "metadata": {
    "collapsed": true
   },
   "outputs": [],
   "source": [
    "from spacy import displacy"
   ]
  },
  {
   "cell_type": "code",
   "execution_count": 6,
   "metadata": {},
   "outputs": [
    {
     "name": "stdout",
     "output_type": "stream",
     "text": [
      "\n",
      "    Serving on port 5000...\n",
      "    Using the 'dep' visualizer\n",
      "\n",
      "\n",
      "    Shutting down server on port 5000.\n",
      "\n"
     ]
    }
   ],
   "source": [
    "#displacy.serve(doc, style='dep')"
   ]
  },
  {
   "cell_type": "markdown",
   "metadata": {},
   "source": [
    "Wow. Nice. No really... It just serves up the sentence so you can just look at it in your browser. It's on port 5000 so I'm thinking it's a simple Flask app?\n",
    "\n",
    "Windows... it gives some permission pop up that you may or may not want to approve."
   ]
  },
  {
   "cell_type": "code",
   "execution_count": 20,
   "metadata": {},
   "outputs": [
    {
     "data": {
      "text/html": [
       "<div class=\"entities\" style=\"line-height: 2.5\">\n",
       "<mark class=\"entity\" style=\"background: #aa9cfc; padding: 0.45em 0.6em; margin: 0 0.25em; line-height: 1; border-radius: 0.35em; box-decoration-break: clone; -webkit-box-decoration-break: clone\">\n",
       "    John Smith\n",
       "    <span style=\"font-size: 0.8em; font-weight: bold; line-height: 1; border-radius: 0.35em; text-transform: uppercase; vertical-align: middle; margin-left: 0.5rem\">PERSON</span>\n",
       "</mark>\n",
       " had a heart attack, he was treated by doctor \n",
       "<mark class=\"entity\" style=\"background: #aa9cfc; padding: 0.45em 0.6em; margin: 0 0.25em; line-height: 1; border-radius: 0.35em; box-decoration-break: clone; -webkit-box-decoration-break: clone\">\n",
       "    joe\n",
       "    <span style=\"font-size: 0.8em; font-weight: bold; line-height: 1; border-radius: 0.35em; text-transform: uppercase; vertical-align: middle; margin-left: 0.5rem\">PERSON</span>\n",
       "</mark>\n",
       " shmoe.</div>"
      ],
      "text/plain": [
       "<IPython.core.display.HTML object>"
      ]
     },
     "metadata": {},
     "output_type": "display_data"
    }
   ],
   "source": [
    "doc = nlp(u'John Smith had a heart attack, he was treated by doctor joe shmoe.')\n",
    "displacy.render(doc, style='ent', jupyter=True)"
   ]
  },
  {
   "cell_type": "markdown",
   "metadata": {},
   "source": [
    "AND IT HAS NATIVE SUPPORT FOR JUPYTER."
   ]
  },
  {
   "cell_type": "markdown",
   "metadata": {},
   "source": [
    "## Entities"
   ]
  },
  {
   "cell_type": "code",
   "execution_count": 8,
   "metadata": {},
   "outputs": [
    {
     "name": "stdout",
     "output_type": "stream",
     "text": [
      "Apple\n",
      "U.K.\n",
      "$1 billion\n"
     ]
    }
   ],
   "source": [
    "for ent in doc.ents:\n",
    "    print(ent.text)"
   ]
  },
  {
   "cell_type": "markdown",
   "metadata": {},
   "source": [
    "## Word Vectors"
   ]
  },
  {
   "cell_type": "code",
   "execution_count": 9,
   "metadata": {
    "collapsed": true
   },
   "outputs": [],
   "source": [
    "tokens = nlp(u'dog cat banana')"
   ]
  },
  {
   "cell_type": "code",
   "execution_count": 10,
   "metadata": {},
   "outputs": [
    {
     "name": "stdout",
     "output_type": "stream",
     "text": [
      "dog 1.0 dog\n",
      "dog 0.53907 cat\n",
      "dog 0.28761 banana\n",
      "\n",
      "cat 0.53907 dog\n",
      "cat 1.0 cat\n",
      "cat 0.487522 banana\n",
      "\n",
      "banana 0.28761 dog\n",
      "banana 0.487522 cat\n",
      "banana 1.0 banana\n",
      "\n"
     ]
    }
   ],
   "source": [
    "for i in tokens:\n",
    "    for j in tokens:\n",
    "        print(i, i.similarity(j), j)\n",
    "    print()"
   ]
  },
  {
   "cell_type": "markdown",
   "metadata": {},
   "source": [
    "Not sure what that means. And my numbers are different than the ones in the tutorial. And it turns out that the models in\n",
    "\n",
    "    $ python -m spacy download en\n",
    "    \n",
    "come in small by default. Thus they don't offer as good a performance. You can get bigger and better models from\n",
    "\n",
    "    $ python -m spacy download en_core_web_lg\n",
    "\n",
    ". And... I'm downloading them now. 30% done and it's already at 240MB. It weighs in at 852MB. That's pretty big."
   ]
  },
  {
   "cell_type": "code",
   "execution_count": 11,
   "metadata": {},
   "outputs": [
    {
     "name": "stdout",
     "output_type": "stream",
     "text": [
      "Wall time: 9.94 s\n"
     ]
    }
   ],
   "source": [
    "%time nlp = spacy.load('en_core_web_lg')"
   ]
  },
  {
   "cell_type": "code",
   "execution_count": 12,
   "metadata": {
    "collapsed": true
   },
   "outputs": [],
   "source": [
    "tokens = nlp(u'dog cat banana')"
   ]
  },
  {
   "cell_type": "code",
   "execution_count": 13,
   "metadata": {},
   "outputs": [
    {
     "name": "stdout",
     "output_type": "stream",
     "text": [
      "dog 1.0 dog\n",
      "dog 0.801685 cat\n",
      "dog 0.243276 banana\n",
      "\n",
      "cat 0.801685 dog\n",
      "cat 1.0 cat\n",
      "cat 0.281544 banana\n",
      "\n",
      "banana 0.243276 dog\n",
      "banana 0.281544 cat\n",
      "banana 1.0 banana\n",
      "\n"
     ]
    }
   ],
   "source": [
    "for i in tokens:\n",
    "    for j in tokens:\n",
    "        print(i, i.similarity(j), j)\n",
    "    print()"
   ]
  },
  {
   "cell_type": "markdown",
   "metadata": {},
   "source": [
    "And those numbers now do match up with the ones on the tutorial page."
   ]
  },
  {
   "cell_type": "code",
   "execution_count": 14,
   "metadata": {},
   "outputs": [
    {
     "data": {
      "text/plain": [
       "array([ 0.20228   , -0.076618  ,  0.37031999,  0.032845  , -0.41957   ,\n",
       "        0.072069  , -0.37476   ,  0.05746   , -0.012401  ,  0.52948999], dtype=float32)"
      ]
     },
     "execution_count": 14,
     "metadata": {},
     "output_type": "execute_result"
    }
   ],
   "source": [
    "banana = nlp(u'banana')\n",
    "banana.vector[:10]"
   ]
  }
 ],
 "metadata": {
  "kernelspec": {
   "display_name": "Python 3",
   "language": "python",
   "name": "python3"
  },
  "language_info": {
   "codemirror_mode": {
    "name": "ipython",
    "version": 3
   },
   "file_extension": ".py",
   "mimetype": "text/x-python",
   "name": "python",
   "nbconvert_exporter": "python",
   "pygments_lexer": "ipython3",
   "version": "3.6.2"
  }
 },
 "nbformat": 4,
 "nbformat_minor": 2
}
